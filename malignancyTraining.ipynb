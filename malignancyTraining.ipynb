{
 "cells": [
  {
   "cell_type": "code",
   "execution_count": 1,
   "metadata": {},
   "outputs": [
    {
     "name": "stderr",
     "output_type": "stream",
     "text": [
      "/usr/local/lib/python3.6/importlib/_bootstrap.py:205: RuntimeWarning: compiletime version 3.5 of module 'tensorflow.python.framework.fast_tensor_util' does not match runtime version 3.6\n",
      "  return f(*args, **kwds)\n",
      "/home/ubuntu/.local/lib/python3.6/site-packages/h5py/__init__.py:36: FutureWarning: Conversion of the second argument of issubdtype from `float` to `np.floating` is deprecated. In future, it will be treated as `np.float64 == np.dtype(float).type`.\n",
      "  from ._conv import register_converters as _register_converters\n"
     ]
    }
   ],
   "source": [
    "import xml.etree.ElementTree as ET\n",
    "import SimpleITK as sitk\n",
    "import tensorflow as tf\n",
    "import numpy as np\n",
    "import os\n",
    "import pandas as pd\n",
    "import matplotlib.pyplot as plt\n",
    "import math\n",
    "import scipy.ndimage\n",
    "from tqdm import tqdm\n",
    "from glob import glob\n",
    "from random import shuffle"
   ]
  },
  {
   "cell_type": "code",
   "execution_count": 2,
   "metadata": {},
   "outputs": [
    {
     "name": "stderr",
     "output_type": "stream",
     "text": [
      "Using TensorFlow backend.\n"
     ]
    }
   ],
   "source": [
    "import keras as k\n",
    "from keras.models import Sequential ,Model\n",
    "from keras.layers import Conv2D, MaxPooling2D,AveragePooling3D,AveragePooling2D,MaxPooling3D,Conv3D\n",
    "from keras.layers import Activation, Dropout, Flatten, Dense ,Input\n",
    "from keras.callbacks import ModelCheckpoint, LearningRateScheduler\n",
    "from keras.preprocessing import image\n",
    "from keras import applications\n",
    "\n",
    "from keras.optimizers import SGD, RMSprop, Adam, Adagrad, Adadelta"
   ]
  },
  {
   "cell_type": "code",
   "execution_count": 3,
   "metadata": {},
   "outputs": [],
   "source": [
    "def load_itk_image(filename):\n",
    "    itkimage = sitk.ReadImage(filename)\n",
    "    numpyImage = sitk.GetArrayFromImage(itkimage)\n",
    "    numpyOrigin = np.array(list(reversed(itkimage.GetOrigin())))\n",
    "    numpySpacing = np.array(list(reversed(itkimage.GetSpacing())))\n",
    "    return numpyImage, numpyOrigin, numpySpacing\n",
    "\n",
    "def readCSV(filename):\n",
    "    lines = []\n",
    "    with open(filename, \"rb\") as f:\n",
    "        csvreader = csv.reader(f)\n",
    "        for line in csvreader:\n",
    "            lines.append(line)\n",
    "    return lines\n",
    "\n",
    "def worldToVoxelCoord(worldCoord, origin, spacing):\n",
    "    stretchedVoxelCoord = np.absolute(worldCoord - origin)\n",
    "    voxelCoord = stretchedVoxelCoord / spacing\n",
    "    return voxelCoord\n",
    "\n",
    "def normalizePlanes(npzarray):\n",
    "    maxHU = 400.\n",
    "    minHU = -1000.\n",
    "    npzarray = (npzarray - minHU) / (maxHU - minHU)\n",
    "    npzarray[npzarray>1] = 1.\n",
    "    npzarray[npzarray<0] = 0.\n",
    "    return npzarray\n"
   ]
  },
  {
   "cell_type": "code",
   "execution_count": 3,
   "metadata": {},
   "outputs": [],
   "source": [
    "outdir = \"cropsout/\""
   ]
  },
  {
   "cell_type": "code",
   "execution_count": 9,
   "metadata": {},
   "outputs": [
    {
     "name": "stderr",
     "output_type": "stream",
     "text": [
      "\r",
      "  0%|          | 0/1318 [00:00<?, ?it/s]"
     ]
    },
    {
     "name": "stdout",
     "output_type": "stream",
     "text": [
      "NOT IN DATASET\n",
      "NOT IN DATASET\n",
      "NOT IN DATASET\n",
      "NOT IN DATASET\n",
      "NOT IN DATASET\n",
      "NOT IN DATASET\n",
      "NOT IN DATASET\n",
      "NOT IN DATASET\n",
      "NOT IN DATASET\n",
      "NOT IN DATASET\n"
     ]
    },
    {
     "name": "stderr",
     "output_type": "stream",
     "text": [
      "\r",
      "  1%|          | 15/1318 [00:00<00:38, 33.82it/s]"
     ]
    },
    {
     "name": "stdout",
     "output_type": "stream",
     "text": [
      "NOT IN DATASET\n",
      "NOT IN DATASET\n",
      "NOT IN DATASET\n",
      "NOT IN DATASET\n",
      "NOT IN DATASET\n",
      "NOT IN DATASET\n",
      "NOT IN DATASET\n",
      "NOT IN DATASET\n",
      "NOT IN DATASET\n",
      "NOT IN DATASET\n",
      "NOT IN DATASET\n",
      "NOT IN DATASET\n"
     ]
    },
    {
     "name": "stderr",
     "output_type": "stream",
     "text": [
      "\r",
      "  3%|▎         | 37/1318 [00:01<00:46, 27.83it/s]"
     ]
    },
    {
     "name": "stdout",
     "output_type": "stream",
     "text": [
      "NOT IN DATASET\n",
      "NOT IN DATASET\n",
      "NOT IN DATASET\n",
      "NOT IN DATASET\n",
      "NOT IN DATASET\n",
      "NOT IN DATASET\n",
      "NOT IN DATASET\n",
      "NOT IN DATASET\n",
      "NOT IN DATASET\n",
      "NOT IN DATASET\n",
      "NOT IN DATASET\n"
     ]
    },
    {
     "name": "stderr",
     "output_type": "stream",
     "text": [
      "\r",
      "  4%|▍         | 53/1318 [00:01<00:41, 30.81it/s]"
     ]
    },
    {
     "name": "stdout",
     "output_type": "stream",
     "text": [
      "NOT IN DATASET\n",
      "NOT IN DATASET\n",
      "NOT IN DATASET\n",
      "NOT IN DATASET\n",
      "NOT IN DATASET\n",
      "NOT IN DATASET\n",
      "NOT IN DATASET\n"
     ]
    },
    {
     "name": "stderr",
     "output_type": "stream",
     "text": [
      "  6%|▌         | 75/1318 [00:02<00:48, 25.83it/s]"
     ]
    },
    {
     "name": "stdout",
     "output_type": "stream",
     "text": [
      "NOT IN DATASET\n",
      "NOT IN DATASET\n",
      "NOT IN DATASET\n",
      "NOT IN DATASET\n",
      "NOT IN DATASET\n",
      "NOT IN DATASET\n",
      "NOT IN DATASET\n",
      "NOT IN DATASET\n",
      "NOT IN DATASET\n",
      "NOT IN DATASET\n",
      "NOT IN DATASET\n",
      "NOT IN DATASET\n",
      "NOT IN DATASET\n",
      "NOT IN DATASET\n"
     ]
    },
    {
     "name": "stderr",
     "output_type": "stream",
     "text": [
      "\r",
      "  7%|▋         | 92/1318 [00:03<00:41, 29.70it/s]"
     ]
    },
    {
     "name": "stdout",
     "output_type": "stream",
     "text": [
      "NOT IN DATASET\n",
      "NOT IN DATASET\n",
      "NOT IN DATASET\n",
      "NOT IN DATASET\n"
     ]
    },
    {
     "name": "stderr",
     "output_type": "stream",
     "text": [
      "\r",
      "  8%|▊         | 102/1318 [00:03<00:46, 25.95it/s]"
     ]
    },
    {
     "name": "stdout",
     "output_type": "stream",
     "text": [
      "NOT IN DATASET\n"
     ]
    },
    {
     "name": "stderr",
     "output_type": "stream",
     "text": [
      "\r",
      "  8%|▊         | 106/1318 [00:05<01:02, 19.32it/s]"
     ]
    },
    {
     "name": "stdout",
     "output_type": "stream",
     "text": [
      "NOT IN DATASET\n"
     ]
    },
    {
     "name": "stderr",
     "output_type": "stream",
     "text": [
      "\r",
      "  8%|▊         | 109/1318 [00:06<01:07, 17.83it/s]"
     ]
    },
    {
     "name": "stdout",
     "output_type": "stream",
     "text": [
      "NOT IN DATASET\n"
     ]
    },
    {
     "name": "stderr",
     "output_type": "stream",
     "text": [
      "\r",
      "  8%|▊         | 111/1318 [00:06<01:08, 17.50it/s]"
     ]
    },
    {
     "name": "stdout",
     "output_type": "stream",
     "text": [
      "NOT IN DATASET\n",
      "NOT IN DATASET\n"
     ]
    },
    {
     "name": "stderr",
     "output_type": "stream",
     "text": [
      "  9%|▉         | 118/1318 [00:07<01:18, 15.35it/s]"
     ]
    },
    {
     "name": "stdout",
     "output_type": "stream",
     "text": [
      "NOT IN DATASET\n",
      "NOT IN DATASET\n",
      "NOT IN DATASET\n",
      "NOT IN DATASET\n",
      "NOT IN DATASET\n"
     ]
    },
    {
     "name": "stderr",
     "output_type": "stream",
     "text": [
      "\r",
      "  9%|▉         | 125/1318 [00:07<01:15, 15.78it/s]"
     ]
    },
    {
     "name": "stdout",
     "output_type": "stream",
     "text": [
      "NOT IN DATASET\n",
      "NOT IN DATASET\n",
      "NOT IN DATASET\n",
      "NOT IN DATASET\n",
      "NOT IN DATASET\n"
     ]
    },
    {
     "name": "stderr",
     "output_type": "stream",
     "text": [
      "\r",
      " 10%|█         | 135/1318 [00:08<01:11, 16.54it/s]"
     ]
    },
    {
     "name": "stdout",
     "output_type": "stream",
     "text": [
      "NOT IN DATASET\n"
     ]
    },
    {
     "name": "stderr",
     "output_type": "stream",
     "text": [
      " 11%|█         | 143/1318 [00:09<01:17, 15.19it/s]"
     ]
    },
    {
     "name": "stdout",
     "output_type": "stream",
     "text": [
      "NOT IN DATASET\n",
      "NOT IN DATASET\n",
      "NOT IN DATASET\n",
      "NOT IN DATASET\n",
      "NOT IN DATASET\n",
      "NOT IN DATASET\n",
      "NOT IN DATASET\n"
     ]
    },
    {
     "name": "stderr",
     "output_type": "stream",
     "text": [
      "\r",
      " 11%|█▏        | 149/1318 [00:09<01:16, 15.24it/s]"
     ]
    },
    {
     "name": "stdout",
     "output_type": "stream",
     "text": [
      "NOT IN DATASET\n"
     ]
    },
    {
     "name": "stderr",
     "output_type": "stream",
     "text": [
      "\r",
      " 12%|█▏        | 153/1318 [00:10<01:17, 15.05it/s]"
     ]
    },
    {
     "name": "stdout",
     "output_type": "stream",
     "text": [
      "NOT IN DATASET\n"
     ]
    },
    {
     "name": "stderr",
     "output_type": "stream",
     "text": [
      "\r",
      " 12%|█▏        | 156/1318 [00:10<01:19, 14.61it/s]"
     ]
    },
    {
     "name": "stdout",
     "output_type": "stream",
     "text": [
      "NOT IN DATASET\n",
      "NOT IN DATASET\n",
      "NOT IN DATASET\n"
     ]
    },
    {
     "name": "stderr",
     "output_type": "stream",
     "text": [
      "\r",
      " 12%|█▏        | 163/1318 [00:11<01:23, 13.89it/s]"
     ]
    },
    {
     "name": "stdout",
     "output_type": "stream",
     "text": [
      "NOT IN DATASET\n",
      "NOT IN DATASET\n"
     ]
    },
    {
     "name": "stderr",
     "output_type": "stream",
     "text": [
      " 13%|█▎        | 168/1318 [00:12<01:28, 13.02it/s]"
     ]
    },
    {
     "name": "stdout",
     "output_type": "stream",
     "text": [
      "NOT IN DATASET\n",
      "NOT IN DATASET\n"
     ]
    },
    {
     "name": "stderr",
     "output_type": "stream",
     "text": [
      "\r",
      " 13%|█▎        | 175/1318 [00:13<01:31, 12.54it/s]"
     ]
    },
    {
     "name": "stdout",
     "output_type": "stream",
     "text": [
      "NOT IN DATASET\n"
     ]
    },
    {
     "name": "stderr",
     "output_type": "stream",
     "text": [
      " 14%|█▎        | 180/1318 [00:14<01:33, 12.22it/s]"
     ]
    },
    {
     "name": "stdout",
     "output_type": "stream",
     "text": [
      "NOT IN DATASET\n",
      "NOT IN DATASET\n",
      "NOT IN DATASET\n"
     ]
    },
    {
     "name": "stderr",
     "output_type": "stream",
     "text": [
      "\r",
      " 14%|█▍        | 188/1318 [00:15<01:31, 12.39it/s]"
     ]
    },
    {
     "name": "stdout",
     "output_type": "stream",
     "text": [
      "NOT IN DATASET\n",
      "NOT IN DATASET\n",
      "NOT IN DATASET\n",
      "NOT IN DATASET\n"
     ]
    },
    {
     "name": "stderr",
     "output_type": "stream",
     "text": [
      "\r",
      " 15%|█▍        | 194/1318 [00:15<01:31, 12.24it/s]"
     ]
    },
    {
     "name": "stdout",
     "output_type": "stream",
     "text": [
      "NOT IN DATASET\n",
      "NOT IN DATASET\n",
      "NOT IN DATASET\n"
     ]
    },
    {
     "name": "stderr",
     "output_type": "stream",
     "text": [
      "\r",
      " 15%|█▌        | 202/1318 [00:16<01:31, 12.20it/s]"
     ]
    },
    {
     "name": "stdout",
     "output_type": "stream",
     "text": [
      "NOT IN DATASET\n",
      "NOT IN DATASET\n",
      "NOT IN DATASET\n"
     ]
    },
    {
     "name": "stderr",
     "output_type": "stream",
     "text": [
      "\r",
      " 16%|█▌        | 211/1318 [00:17<01:32, 11.91it/s]"
     ]
    },
    {
     "name": "stdout",
     "output_type": "stream",
     "text": [
      "NOT IN DATASET\n",
      "NOT IN DATASET\n",
      "NOT IN DATASET\n",
      "NOT IN DATASET\n",
      "NOT IN DATASET\n",
      "NOT IN DATASET\n",
      "NOT IN DATASET\n"
     ]
    },
    {
     "name": "stderr",
     "output_type": "stream",
     "text": [
      "\r",
      " 17%|█▋        | 224/1318 [00:18<01:30, 12.07it/s]"
     ]
    },
    {
     "name": "stdout",
     "output_type": "stream",
     "text": [
      "NOT IN DATASET\n",
      "NOT IN DATASET\n",
      "NOT IN DATASET\n",
      "NOT IN DATASET\n"
     ]
    },
    {
     "name": "stderr",
     "output_type": "stream",
     "text": [
      "\r",
      " 17%|█▋        | 229/1318 [00:18<01:29, 12.18it/s]"
     ]
    },
    {
     "name": "stdout",
     "output_type": "stream",
     "text": [
      "NOT IN DATASET\n"
     ]
    },
    {
     "name": "stderr",
     "output_type": "stream",
     "text": [
      "\r",
      " 18%|█▊        | 232/1318 [00:19<01:31, 11.88it/s]"
     ]
    },
    {
     "name": "stdout",
     "output_type": "stream",
     "text": [
      "NOT IN DATASET\n"
     ]
    },
    {
     "name": "stderr",
     "output_type": "stream",
     "text": [
      "\r",
      " 18%|█▊        | 235/1318 [00:20<01:33, 11.61it/s]"
     ]
    },
    {
     "name": "stdout",
     "output_type": "stream",
     "text": [
      "NOT IN DATASET\n",
      "NOT IN DATASET\n"
     ]
    },
    {
     "name": "stderr",
     "output_type": "stream",
     "text": [
      " 18%|█▊        | 239/1318 [00:22<01:40, 10.77it/s]"
     ]
    },
    {
     "name": "stdout",
     "output_type": "stream",
     "text": [
      "NOT IN DATASET\n"
     ]
    },
    {
     "name": "stderr",
     "output_type": "stream",
     "text": [
      " 19%|█▉        | 248/1318 [00:22<01:38, 10.84it/s]"
     ]
    },
    {
     "name": "stdout",
     "output_type": "stream",
     "text": [
      "NOT IN DATASET\n",
      "NOT IN DATASET\n",
      "NOT IN DATASET\n",
      "NOT IN DATASET\n",
      "NOT IN DATASET\n"
     ]
    },
    {
     "name": "stderr",
     "output_type": "stream",
     "text": [
      "\r",
      " 19%|█▉        | 253/1318 [00:24<01:41, 10.50it/s]"
     ]
    },
    {
     "name": "stdout",
     "output_type": "stream",
     "text": [
      "NOT IN DATASET\n",
      "NOT IN DATASET\n",
      "NOT IN DATASET\n",
      "NOT IN DATASET\n"
     ]
    },
    {
     "name": "stderr",
     "output_type": "stream",
     "text": [
      " 20%|█▉        | 261/1318 [00:27<01:49,  9.64it/s]"
     ]
    },
    {
     "name": "stdout",
     "output_type": "stream",
     "text": [
      "NOT IN DATASET\n"
     ]
    },
    {
     "name": "stderr",
     "output_type": "stream",
     "text": [
      " 21%|██        | 276/1318 [00:28<01:46,  9.78it/s]"
     ]
    },
    {
     "name": "stdout",
     "output_type": "stream",
     "text": [
      "NOT IN DATASET\n",
      "NOT IN DATASET\n",
      "NOT IN DATASET\n",
      "NOT IN DATASET\n",
      "NOT IN DATASET\n",
      "NOT IN DATASET\n",
      "NOT IN DATASET\n",
      "NOT IN DATASET\n",
      "NOT IN DATASET\n",
      "NOT IN DATASET\n"
     ]
    },
    {
     "name": "stderr",
     "output_type": "stream",
     "text": [
      "\r",
      " 21%|██▏       | 281/1318 [00:29<01:48,  9.54it/s]"
     ]
    },
    {
     "name": "stdout",
     "output_type": "stream",
     "text": [
      "NOT IN DATASET\n"
     ]
    },
    {
     "name": "stderr",
     "output_type": "stream",
     "text": [
      "\r",
      " 22%|██▏       | 284/1318 [00:31<01:53,  9.14it/s]"
     ]
    },
    {
     "name": "stdout",
     "output_type": "stream",
     "text": [
      "NOT IN DATASET\n"
     ]
    },
    {
     "name": "stderr",
     "output_type": "stream",
     "text": [
      " 22%|██▏       | 291/1318 [00:34<02:00,  8.49it/s]"
     ]
    },
    {
     "name": "stdout",
     "output_type": "stream",
     "text": [
      "NOT IN DATASET\n",
      "NOT IN DATASET\n",
      "NOT IN DATASET\n",
      "NOT IN DATASET\n",
      "NOT IN DATASET\n",
      "NOT IN DATASET\n",
      "NOT IN DATASET\n",
      "NOT IN DATASET\n",
      "NOT IN DATASET\n"
     ]
    },
    {
     "name": "stderr",
     "output_type": "stream",
     "text": [
      "\r",
      " 23%|██▎       | 306/1318 [00:34<01:54,  8.84it/s]"
     ]
    },
    {
     "name": "stdout",
     "output_type": "stream",
     "text": [
      "NOT IN DATASET\n",
      "NOT IN DATASET\n",
      "NOT IN DATASET\n",
      "NOT IN DATASET\n",
      "NOT IN DATASET\n"
     ]
    },
    {
     "name": "stderr",
     "output_type": "stream",
     "text": [
      " 24%|██▍       | 322/1318 [00:35<01:49,  9.11it/s]"
     ]
    },
    {
     "name": "stdout",
     "output_type": "stream",
     "text": [
      "NOT IN DATASET\n",
      "NOT IN DATASET\n",
      "NOT IN DATASET\n",
      "NOT IN DATASET\n",
      "NOT IN DATASET\n",
      "NOT IN DATASET\n",
      "NOT IN DATASET\n",
      "NOT IN DATASET\n",
      "NOT IN DATASET\n",
      "NOT IN DATASET\n"
     ]
    },
    {
     "name": "stderr",
     "output_type": "stream",
     "text": [
      " 27%|██▋       | 353/1318 [00:36<01:39,  9.68it/s]"
     ]
    },
    {
     "name": "stdout",
     "output_type": "stream",
     "text": [
      "NOT IN DATASET\n",
      "NOT IN DATASET\n",
      "NOT IN DATASET\n",
      "NOT IN DATASET\n",
      "NOT IN DATASET\n",
      "NOT IN DATASET\n",
      "NOT IN DATASET\n",
      "NOT IN DATASET\n",
      "NOT IN DATASET\n",
      "NOT IN DATASET\n",
      "NOT IN DATASET\n",
      "NOT IN DATASET\n",
      "NOT IN DATASET\n",
      "NOT IN DATASET\n"
     ]
    },
    {
     "name": "stderr",
     "output_type": "stream",
     "text": [
      "\r",
      " 27%|██▋       | 359/1318 [00:37<01:41,  9.45it/s]"
     ]
    },
    {
     "name": "stdout",
     "output_type": "stream",
     "text": [
      "NOT IN DATASET\n"
     ]
    },
    {
     "name": "stderr",
     "output_type": "stream",
     "text": [
      "\r",
      " 28%|██▊       | 363/1318 [00:38<01:41,  9.43it/s]"
     ]
    },
    {
     "name": "stdout",
     "output_type": "stream",
     "text": [
      "NOT IN DATASET\n",
      "NOT IN DATASET\n",
      "NOT IN DATASET\n",
      "NOT IN DATASET\n",
      "NOT IN DATASET\n",
      "NOT IN DATASET\n",
      "NOT IN DATASET\n",
      "NOT IN DATASET\n",
      "NOT IN DATASET\n",
      "NOT IN DATASET\n",
      "NOT IN DATASET\n"
     ]
    },
    {
     "name": "stderr",
     "output_type": "stream",
     "text": [
      "\r",
      " 29%|██▉       | 384/1318 [00:38<01:34,  9.85it/s]"
     ]
    },
    {
     "name": "stdout",
     "output_type": "stream",
     "text": [
      "NOT IN DATASET\n",
      "NOT IN DATASET\n",
      "NOT IN DATASET\n",
      "NOT IN DATASET\n"
     ]
    },
    {
     "name": "stderr",
     "output_type": "stream",
     "text": [
      "\r",
      " 30%|██▉       | 392/1318 [00:40<01:34,  9.79it/s]"
     ]
    },
    {
     "name": "stdout",
     "output_type": "stream",
     "text": [
      "NOT IN DATASET\n",
      "NOT IN DATASET\n"
     ]
    },
    {
     "name": "stderr",
     "output_type": "stream",
     "text": [
      " 30%|███       | 399/1318 [00:43<01:40,  9.10it/s]"
     ]
    },
    {
     "name": "stdout",
     "output_type": "stream",
     "text": [
      "NOT IN DATASET\n"
     ]
    },
    {
     "name": "stderr",
     "output_type": "stream",
     "text": [
      "\r",
      " 30%|███       | 401/1318 [00:44<01:41,  9.04it/s]"
     ]
    },
    {
     "name": "stdout",
     "output_type": "stream",
     "text": [
      "NOT IN DATASET\n",
      "NOT IN DATASET\n",
      "NOT IN DATASET\n",
      "NOT IN DATASET\n",
      "NOT IN DATASET\n",
      "NOT IN DATASET\n"
     ]
    },
    {
     "name": "stderr",
     "output_type": "stream",
     "text": [
      "\r",
      " 31%|███       | 409/1318 [00:46<01:44,  8.73it/s]"
     ]
    },
    {
     "name": "stdout",
     "output_type": "stream",
     "text": [
      "NOT IN DATASET\n",
      "NOT IN DATASET\n",
      "NOT IN DATASET\n"
     ]
    },
    {
     "name": "stderr",
     "output_type": "stream",
     "text": [
      "\r",
      " 31%|███▏      | 414/1318 [00:47<01:42,  8.79it/s]"
     ]
    },
    {
     "name": "stdout",
     "output_type": "stream",
     "text": [
      "NOT IN DATASET\n"
     ]
    },
    {
     "name": "stderr",
     "output_type": "stream",
     "text": [
      " 32%|███▏      | 418/1318 [00:47<01:42,  8.78it/s]"
     ]
    },
    {
     "name": "stdout",
     "output_type": "stream",
     "text": [
      "NOT IN DATASET\n"
     ]
    },
    {
     "name": "stderr",
     "output_type": "stream",
     "text": [
      " 32%|███▏      | 427/1318 [00:49<01:42,  8.67it/s]"
     ]
    },
    {
     "name": "stdout",
     "output_type": "stream",
     "text": [
      "NOT IN DATASET\n",
      "NOT IN DATASET\n",
      "NOT IN DATASET\n"
     ]
    },
    {
     "name": "stderr",
     "output_type": "stream",
     "text": [
      " 33%|███▎      | 433/1318 [00:50<01:43,  8.56it/s]"
     ]
    },
    {
     "name": "stdout",
     "output_type": "stream",
     "text": [
      "NOT IN DATASET\n",
      "NOT IN DATASET\n"
     ]
    },
    {
     "name": "stderr",
     "output_type": "stream",
     "text": [
      "\r",
      " 33%|███▎      | 438/1318 [00:51<01:43,  8.48it/s]"
     ]
    },
    {
     "name": "stdout",
     "output_type": "stream",
     "text": [
      "NOT IN DATASET\n",
      "NOT IN DATASET\n",
      "NOT IN DATASET\n",
      "NOT IN DATASET\n",
      "NOT IN DATASET\n",
      "NOT IN DATASET\n",
      "NOT IN DATASET\n",
      "NOT IN DATASET\n"
     ]
    },
    {
     "name": "stderr",
     "output_type": "stream",
     "text": [
      " 34%|███▍      | 453/1318 [00:52<01:40,  8.64it/s]"
     ]
    },
    {
     "name": "stdout",
     "output_type": "stream",
     "text": [
      "NOT IN DATASET\n",
      "NOT IN DATASET\n",
      "NOT IN DATASET\n",
      "NOT IN DATASET\n",
      "NOT IN DATASET\n",
      "NOT IN DATASET\n",
      "NOT IN DATASET\n",
      "NOT IN DATASET\n",
      "NOT IN DATASET\n",
      "NOT IN DATASET\n",
      "NOT IN DATASET\n",
      "NOT IN DATASET\n",
      "NOT IN DATASET\n",
      "NOT IN DATASET\n",
      "NOT IN DATASET\n",
      "NOT IN DATASET\n"
     ]
    },
    {
     "name": "stderr",
     "output_type": "stream",
     "text": [
      "\r",
      " 36%|███▌      | 475/1318 [00:53<01:34,  8.90it/s]"
     ]
    },
    {
     "name": "stdout",
     "output_type": "stream",
     "text": [
      "NOT IN DATASET\n",
      "NOT IN DATASET\n",
      "NOT IN DATASET\n",
      "NOT IN DATASET\n",
      "NOT IN DATASET\n"
     ]
    },
    {
     "name": "stderr",
     "output_type": "stream",
     "text": [
      "\r",
      " 37%|███▋      | 483/1318 [00:53<01:33,  8.96it/s]"
     ]
    },
    {
     "name": "stdout",
     "output_type": "stream",
     "text": [
      "NOT IN DATASET\n",
      "NOT IN DATASET\n",
      "NOT IN DATASET\n",
      "NOT IN DATASET\n",
      "NOT IN DATASET\n"
     ]
    },
    {
     "name": "stderr",
     "output_type": "stream",
     "text": [
      "\r",
      " 37%|███▋      | 490/1318 [00:54<01:31,  9.01it/s]"
     ]
    },
    {
     "name": "stdout",
     "output_type": "stream",
     "text": [
      "NOT IN DATASET\n"
     ]
    },
    {
     "name": "stderr",
     "output_type": "stream",
     "text": [
      "\r",
      " 38%|███▊      | 495/1318 [00:54<01:31,  9.00it/s]"
     ]
    },
    {
     "name": "stdout",
     "output_type": "stream",
     "text": [
      "NOT IN DATASET\n",
      "NOT IN DATASET\n",
      "NOT IN DATASET\n"
     ]
    },
    {
     "name": "stderr",
     "output_type": "stream",
     "text": [
      "\r",
      " 38%|███▊      | 502/1318 [00:56<01:31,  8.94it/s]"
     ]
    },
    {
     "name": "stdout",
     "output_type": "stream",
     "text": [
      "NOT IN DATASET\n",
      "NOT IN DATASET\n",
      "NOT IN DATASET\n",
      "NOT IN DATASET\n"
     ]
    },
    {
     "name": "stderr",
     "output_type": "stream",
     "text": [
      "\r",
      " 39%|███▊      | 509/1318 [00:57<01:30,  8.93it/s]"
     ]
    },
    {
     "name": "stdout",
     "output_type": "stream",
     "text": [
      "NOT IN DATASET\n",
      "NOT IN DATASET\n",
      "NOT IN DATASET\n",
      "NOT IN DATASET\n"
     ]
    },
    {
     "name": "stderr",
     "output_type": "stream",
     "text": [
      " 39%|███▉      | 519/1318 [00:57<01:28,  9.03it/s]"
     ]
    },
    {
     "name": "stdout",
     "output_type": "stream",
     "text": [
      "NOT IN DATASET\n",
      "NOT IN DATASET\n",
      "NOT IN DATASET\n",
      "NOT IN DATASET\n",
      "NOT IN DATASET\n",
      "NOT IN DATASET\n",
      "NOT IN DATASET\n"
     ]
    },
    {
     "name": "stderr",
     "output_type": "stream",
     "text": [
      " 63%|██████▎   | 825/1318 [02:54<01:44,  4.74it/s]"
     ]
    },
    {
     "name": "stdout",
     "output_type": "stream",
     "text": [
      "NOT IN DATASET\n"
     ]
    },
    {
     "name": "stderr",
     "output_type": "stream",
     "text": [
      " 67%|██████▋   | 878/1318 [03:08<01:34,  4.65it/s]"
     ]
    },
    {
     "name": "stdout",
     "output_type": "stream",
     "text": [
      "NOT IN DATASET\n"
     ]
    },
    {
     "name": "stderr",
     "output_type": "stream",
     "text": [
      " 78%|███████▊  | 1028/1318 [03:33<01:00,  4.81it/s]"
     ]
    },
    {
     "name": "stdout",
     "output_type": "stream",
     "text": [
      "NOT IN DATASET\n"
     ]
    },
    {
     "name": "stderr",
     "output_type": "stream",
     "text": [
      " 81%|████████  | 1068/1318 [03:40<00:51,  4.84it/s]"
     ]
    },
    {
     "name": "stdout",
     "output_type": "stream",
     "text": [
      "NOT IN DATASET\n"
     ]
    },
    {
     "name": "stderr",
     "output_type": "stream",
     "text": [
      "\r",
      " 81%|████████▏ | 1071/1318 [03:41<00:51,  4.84it/s]"
     ]
    },
    {
     "name": "stdout",
     "output_type": "stream",
     "text": [
      "NOT IN DATASET\n",
      "NOT IN DATASET\n"
     ]
    },
    {
     "name": "stderr",
     "output_type": "stream",
     "text": [
      " 83%|████████▎ | 1092/1318 [03:43<00:46,  4.88it/s]"
     ]
    },
    {
     "name": "stdout",
     "output_type": "stream",
     "text": [
      "NOT IN DATASET\n"
     ]
    },
    {
     "name": "stderr",
     "output_type": "stream",
     "text": [
      "\r",
      " 83%|████████▎ | 1094/1318 [03:44<00:45,  4.88it/s]"
     ]
    },
    {
     "name": "stdout",
     "output_type": "stream",
     "text": [
      "NOT IN DATASET\n",
      "NOT IN DATASET\n"
     ]
    },
    {
     "name": "stderr",
     "output_type": "stream",
     "text": [
      " 87%|████████▋ | 1153/1318 [03:56<00:33,  4.88it/s]"
     ]
    },
    {
     "name": "stdout",
     "output_type": "stream",
     "text": [
      "NOT IN DATASET\n",
      "NOT IN DATASET\n",
      "NOT IN DATASET\n",
      "NOT IN DATASET\n"
     ]
    },
    {
     "name": "stderr",
     "output_type": "stream",
     "text": [
      " 93%|█████████▎| 1232/1318 [04:19<00:18,  4.76it/s]"
     ]
    },
    {
     "name": "stdout",
     "output_type": "stream",
     "text": [
      "NOT IN DATASET\n"
     ]
    },
    {
     "name": "stderr",
     "output_type": "stream",
     "text": [
      "\r",
      " 94%|█████████▍| 1238/1318 [04:19<00:16,  4.78it/s]"
     ]
    },
    {
     "name": "stdout",
     "output_type": "stream",
     "text": [
      "NOT IN DATASET\n"
     ]
    },
    {
     "name": "stderr",
     "output_type": "stream",
     "text": [
      " 97%|█████████▋| 1278/1318 [04:40<00:08,  4.56it/s]"
     ]
    },
    {
     "name": "stdout",
     "output_type": "stream",
     "text": [
      "NOT IN DATASET\n"
     ]
    },
    {
     "name": "stderr",
     "output_type": "stream",
     "text": [
      " 98%|█████████▊| 1298/1318 [04:46<00:04,  4.53it/s]"
     ]
    },
    {
     "name": "stdout",
     "output_type": "stream",
     "text": [
      "NOT IN DATASET\n"
     ]
    },
    {
     "name": "stderr",
     "output_type": "stream",
     "text": [
      "100%|██████████| 1318/1318 [04:48<00:00,  4.58it/s]\n"
     ]
    }
   ],
   "source": [
    "count=0\n",
    "for xmln in tqdm(glob(\"tcia-lidc-xml/*/*.xml\")):\n",
    "    tree = ET.parse(xmln)\n",
    "    root = tree.getroot()\n",
    "    \n",
    "    try:\n",
    "        seriesID = (root.find(\"{http://www.nih.gov}ResponseHeader\")).find(\"{http://www.nih.gov}SeriesInstanceUid\")\n",
    "        path = glob(\"../subset*/\"+seriesID.text+\".mhd\")\n",
    "        if len(path)>0:\n",
    "            for reading in root.findall(\"{http://www.nih.gov}readingSession\"):\n",
    "                for unblindedread in reading.findall(\"{http://www.nih.gov}unblindedReadNodule\"):\n",
    "                    if unblindedread.find(\"{http://www.nih.gov}characteristics\") !=None:\n",
    "                        sumx=0\n",
    "                        sumy=0\n",
    "                        sumz=0\n",
    "                        malignancy =int(unblindedread.find(\"{http://www.nih.gov}characteristics\").find(\"{http://www.nih.gov}malignancy\").text)\n",
    "                        countz=0\n",
    "                        countxy=0\n",
    "                        for roi in unblindedread.findall(\"{http://www.nih.gov}roi\"):\n",
    "                            sumz= sumz+float(roi.find(\"{http://www.nih.gov}imageZposition\").text)\n",
    "                            countz = countz+1\n",
    "                            for edge in roi.findall(\"{http://www.nih.gov}edgeMap\"):\n",
    "                                sumx=sumx + float(edge.find((\"{http://www.nih.gov}xCoord\")).text)\n",
    "                                sumy=sumy+float(edge.find((\"{http://www.nih.gov}yCoord\")).text)\n",
    "                                countxy = countxy+1\n",
    "                        sumx=sumx/countxy\n",
    "                        sumy=sumy/countxy\n",
    "                        sumz=sumz/countz\n",
    "\n",
    "                        numpyImage, numpyOrigin, numpySpacing = load_itk_image(path[0])\n",
    "                        worldCoord = np.asarray([sumz,sumy,sumx])\n",
    "                        voxelCoord = worldToVoxelCoord(worldCoord, numpyOrigin, numpySpacing)\n",
    "                        voxelCoord = np.asarray([voxelCoord[0],sumy,sumx])\n",
    "                        voxelWidth = 64\n",
    "                        patch = numpyImage[int(voxelCoord[0]-voxelWidth/2):int(voxelCoord[0]+voxelWidth/2),int(voxelCoord[1]-voxelWidth/2):int(voxelCoord[1]+voxelWidth/2),int(voxelCoord[2]-voxelWidth/2):int(voxelCoord[2]+voxelWidth/2)]\n",
    "                        patch = normalizePlanes(patch)\n",
    "\n",
    "                        desired= malignancy\n",
    "\n",
    "                        if(desired==0):\n",
    "                            yy = [0,0,0,0,0,1]\n",
    "                        if(desired==1):\n",
    "                            yy = [0,0,0,0,1,0]\n",
    "                        if(desired==2):\n",
    "                            yy = [0,0,0,1,0,0]\n",
    "                        if(desired==3):\n",
    "                            yy = [0,0,1,0,0,0]\n",
    "                        if(desired==4):\n",
    "                            yy = [0,1,0,0,0,0]\n",
    "                        if(desired==5):\n",
    "                            yy = [1,0,0,0,0,0]\n",
    "\n",
    "                        np.save(outdir+str(count)+\"X.npy\",patch)\n",
    "                        np.save(outdir+str(count)+\"Y.npy\",yy)\n",
    "\n",
    "                        count= count+1\n",
    "\n",
    "                        #print(sumz,sumx,sumy,malignancy)\n",
    "    except:\n",
    "        print(\"NOT IN DATASET\")\n",
    "                    \n"
   ]
  },
  {
   "cell_type": "code",
   "execution_count": 38,
   "metadata": {},
   "outputs": [
    {
     "data": {
      "text/plain": [
       "((2264, 64, 64, 64, 1), (2264, 6))"
      ]
     },
     "execution_count": 38,
     "metadata": {},
     "output_type": "execute_result"
    }
   ],
   "source": [
    "xtrain , ytrain= [] ,[]\n",
    "l1 = glob(outdir+\"*X.npy\")\n",
    "ll = l1[:]\n",
    "shuffle(ll)\n",
    "for x in ll:\n",
    "    y = x[:-5] +\"Y\" + x[-4:]\n",
    "    xx= np.load(x)\n",
    "    yy = np.load(y)\n",
    "    if xx.shape == (64,64,64):\n",
    "        xx = np.expand_dims(xx,axis=3)\n",
    "        xtrain.append(xx)\n",
    "        ytrain.append(yy)\n",
    "\n",
    "xtrain = np.array(xtrain)\n",
    "ytrain = np.array(ytrain)\n",
    "\n",
    "xtrain.shape , ytrain.shape"
   ]
  },
  {
   "cell_type": "code",
   "execution_count": 18,
   "metadata": {},
   "outputs": [],
   "source": [
    "model = Sequential()\n",
    "model.add(Conv2D(32, kernel_size=(5, 5), strides=(1, 1),\n",
    "                 activation='relu',\n",
    "                 input_shape=[64,64,64]))\n",
    "model.add(Dropout(0.4))\n",
    "model.add(MaxPooling2D(pool_size=(2, 2), strides=(2, 2)))\n",
    "model.add(Conv2D(64, (5, 5), activation='relu'))\n",
    "model.add(Dropout(0.4))\n",
    "model.add(MaxPooling2D(pool_size=(2, 2)))\n",
    "model.add(Flatten())\n",
    "model.add(Dropout(0.4))\n",
    "model.add(Dense(1000, activation='relu'))\n",
    "model.add(Dropout(0.4))\n",
    "model.add(Dense(6, activation='softmax'))"
   ]
  },
  {
   "cell_type": "code",
   "execution_count": 20,
   "metadata": {},
   "outputs": [],
   "source": [
    "model.compile(loss=k.losses.categorical_crossentropy,\n",
    "              optimizer=k.optimizers.SGD(lr=0.01),\n",
    "              metrics=['accuracy'])\n",
    "model_checkpoint = ModelCheckpoint('malignancy_crop.hdf5', monitor='loss', save_best_only=True)"
   ]
  },
  {
   "cell_type": "code",
   "execution_count": null,
   "metadata": {},
   "outputs": [],
   "source": [
    "model.load_weights(\"malignancy_crop.hdf5\")"
   ]
  },
  {
   "cell_type": "code",
   "execution_count": 22,
   "metadata": {},
   "outputs": [
    {
     "name": "stdout",
     "output_type": "stream",
     "text": [
      "Train on 2037 samples, validate on 227 samples\n",
      "Epoch 1/100\n",
      "2037/2037 [==============================] - 4s 2ms/step - loss: 0.9960 - acc: 0.5974 - val_loss: 1.3103 - val_acc: 0.4537\n",
      "Epoch 2/100\n",
      "2037/2037 [==============================] - 4s 2ms/step - loss: 0.9727 - acc: 0.6038 - val_loss: 1.2799 - val_acc: 0.4405\n",
      "Epoch 3/100\n",
      "2037/2037 [==============================] - 4s 2ms/step - loss: 0.9748 - acc: 0.6136 - val_loss: 1.2739 - val_acc: 0.4449\n",
      "Epoch 4/100\n",
      "2037/2037 [==============================] - 4s 2ms/step - loss: 1.0253 - acc: 0.5866 - val_loss: 1.2993 - val_acc: 0.4273\n",
      "Epoch 5/100\n",
      "2037/2037 [==============================] - 4s 2ms/step - loss: 0.9991 - acc: 0.5920 - val_loss: 1.2890 - val_acc: 0.4449\n",
      "Epoch 6/100\n",
      "2037/2037 [==============================] - 4s 2ms/step - loss: 1.0100 - acc: 0.5857 - val_loss: 1.2912 - val_acc: 0.4229\n",
      "Epoch 7/100\n",
      "2037/2037 [==============================] - 4s 2ms/step - loss: 0.9890 - acc: 0.5965 - val_loss: 1.3649 - val_acc: 0.4097\n",
      "Epoch 8/100\n",
      "2037/2037 [==============================] - 4s 2ms/step - loss: 1.0261 - acc: 0.5916 - val_loss: 1.3040 - val_acc: 0.4361\n",
      "Epoch 9/100\n",
      "2037/2037 [==============================] - 4s 2ms/step - loss: 0.9686 - acc: 0.6078 - val_loss: 1.3350 - val_acc: 0.4273\n",
      "Epoch 10/100\n",
      "2037/2037 [==============================] - 4s 2ms/step - loss: 1.0133 - acc: 0.5847 - val_loss: 1.3230 - val_acc: 0.4581\n",
      "Epoch 11/100\n",
      "2037/2037 [==============================] - 4s 2ms/step - loss: 0.9946 - acc: 0.6038 - val_loss: 1.3560 - val_acc: 0.4537\n",
      "Epoch 12/100\n",
      "2037/2037 [==============================] - 4s 2ms/step - loss: 1.0297 - acc: 0.5862 - val_loss: 1.3209 - val_acc: 0.4493\n",
      "Epoch 13/100\n",
      "2037/2037 [==============================] - 4s 2ms/step - loss: 0.9846 - acc: 0.6009 - val_loss: 1.2853 - val_acc: 0.4714\n",
      "Epoch 14/100\n",
      "2037/2037 [==============================] - 4s 2ms/step - loss: 0.9828 - acc: 0.5965 - val_loss: 1.2899 - val_acc: 0.4273\n",
      "Epoch 15/100\n",
      "2037/2037 [==============================] - 4s 2ms/step - loss: 0.9890 - acc: 0.5866 - val_loss: 1.2958 - val_acc: 0.4405\n",
      "Epoch 16/100\n",
      "2037/2037 [==============================] - 4s 2ms/step - loss: 0.9797 - acc: 0.6004 - val_loss: 1.3260 - val_acc: 0.4273\n",
      "Epoch 17/100\n",
      "2037/2037 [==============================] - 4s 2ms/step - loss: 0.9946 - acc: 0.5935 - val_loss: 1.3296 - val_acc: 0.4273\n",
      "Epoch 18/100\n",
      "2037/2037 [==============================] - 4s 2ms/step - loss: 0.9785 - acc: 0.6024 - val_loss: 1.2933 - val_acc: 0.4581\n",
      "Epoch 19/100\n",
      "2037/2037 [==============================] - 4s 2ms/step - loss: 0.9638 - acc: 0.5965 - val_loss: 1.2942 - val_acc: 0.4317\n",
      "Epoch 20/100\n",
      "2037/2037 [==============================] - 4s 2ms/step - loss: 0.9723 - acc: 0.6004 - val_loss: 1.2775 - val_acc: 0.4229\n",
      "Epoch 21/100\n",
      "2037/2037 [==============================] - 4s 2ms/step - loss: 0.9750 - acc: 0.6048 - val_loss: 1.2958 - val_acc: 0.4185\n",
      "Epoch 22/100\n",
      "2037/2037 [==============================] - 4s 2ms/step - loss: 0.9930 - acc: 0.5906 - val_loss: 1.2790 - val_acc: 0.4317\n",
      "Epoch 23/100\n",
      "2037/2037 [==============================] - 4s 2ms/step - loss: 0.9695 - acc: 0.6019 - val_loss: 1.3138 - val_acc: 0.4229\n",
      "Epoch 24/100\n",
      "2037/2037 [==============================] - 4s 2ms/step - loss: 0.9767 - acc: 0.5999 - val_loss: 1.3039 - val_acc: 0.4405\n",
      "Epoch 25/100\n",
      "2037/2037 [==============================] - 4s 2ms/step - loss: 0.9686 - acc: 0.6073 - val_loss: 1.3366 - val_acc: 0.4317\n",
      "Epoch 26/100\n",
      "2037/2037 [==============================] - 4s 2ms/step - loss: 0.9801 - acc: 0.5970 - val_loss: 1.3172 - val_acc: 0.4273\n",
      "Epoch 27/100\n",
      "2037/2037 [==============================] - 4s 2ms/step - loss: 1.0061 - acc: 0.5925 - val_loss: 1.3132 - val_acc: 0.4493\n",
      "Epoch 28/100\n",
      "2037/2037 [==============================] - 4s 2ms/step - loss: 0.9572 - acc: 0.6141 - val_loss: 1.3023 - val_acc: 0.4097\n",
      "Epoch 29/100\n",
      "2037/2037 [==============================] - 4s 2ms/step - loss: 0.9429 - acc: 0.6092 - val_loss: 1.3014 - val_acc: 0.4273\n",
      "Epoch 30/100\n",
      "2037/2037 [==============================] - 4s 2ms/step - loss: 0.9461 - acc: 0.6073 - val_loss: 1.2855 - val_acc: 0.4493\n",
      "Epoch 31/100\n",
      "2037/2037 [==============================] - 4s 2ms/step - loss: 0.9672 - acc: 0.5999 - val_loss: 1.3119 - val_acc: 0.4626\n",
      "Epoch 32/100\n",
      "2037/2037 [==============================] - 4s 2ms/step - loss: 0.9829 - acc: 0.6058 - val_loss: 1.2992 - val_acc: 0.4626\n",
      "Epoch 33/100\n",
      "2037/2037 [==============================] - 4s 2ms/step - loss: 0.9635 - acc: 0.6195 - val_loss: 1.3014 - val_acc: 0.4185\n",
      "Epoch 34/100\n",
      "2037/2037 [==============================] - 4s 2ms/step - loss: 0.9663 - acc: 0.6014 - val_loss: 1.3103 - val_acc: 0.4405\n",
      "Epoch 35/100\n",
      "2037/2037 [==============================] - 4s 2ms/step - loss: 0.9419 - acc: 0.6205 - val_loss: 1.3102 - val_acc: 0.4405\n",
      "Epoch 36/100\n",
      "2037/2037 [==============================] - 4s 2ms/step - loss: 0.9465 - acc: 0.6249 - val_loss: 1.2988 - val_acc: 0.4670\n",
      "Epoch 37/100\n",
      "2037/2037 [==============================] - 4s 2ms/step - loss: 0.9606 - acc: 0.6019 - val_loss: 1.3200 - val_acc: 0.4361\n",
      "Epoch 38/100\n",
      "2037/2037 [==============================] - 4s 2ms/step - loss: 0.9384 - acc: 0.6181 - val_loss: 1.2914 - val_acc: 0.4361\n",
      "Epoch 39/100\n",
      "2037/2037 [==============================] - 4s 2ms/step - loss: 0.9916 - acc: 0.5965 - val_loss: 1.3238 - val_acc: 0.4361\n",
      "Epoch 40/100\n",
      "2037/2037 [==============================] - 4s 2ms/step - loss: 0.9703 - acc: 0.6048 - val_loss: 1.3167 - val_acc: 0.4449\n",
      "Epoch 41/100\n",
      "2037/2037 [==============================] - 4s 2ms/step - loss: 0.9571 - acc: 0.6092 - val_loss: 1.3031 - val_acc: 0.4317\n",
      "Epoch 42/100\n",
      "2037/2037 [==============================] - 4s 2ms/step - loss: 0.9421 - acc: 0.6259 - val_loss: 1.3156 - val_acc: 0.4493\n",
      "Epoch 43/100\n",
      "2037/2037 [==============================] - 4s 2ms/step - loss: 0.9542 - acc: 0.6097 - val_loss: 1.2937 - val_acc: 0.4361\n",
      "Epoch 44/100\n",
      "2037/2037 [==============================] - 4s 2ms/step - loss: 0.9380 - acc: 0.6171 - val_loss: 1.2886 - val_acc: 0.4449\n",
      "Epoch 45/100\n",
      "2037/2037 [==============================] - 4s 2ms/step - loss: 0.9644 - acc: 0.6028 - val_loss: 1.2827 - val_acc: 0.4405\n",
      "Epoch 46/100\n",
      "2037/2037 [==============================] - 4s 2ms/step - loss: 0.9659 - acc: 0.5960 - val_loss: 1.2761 - val_acc: 0.4626\n",
      "Epoch 47/100\n",
      "2037/2037 [==============================] - 4s 2ms/step - loss: 0.9228 - acc: 0.6195 - val_loss: 1.2859 - val_acc: 0.4141\n",
      "Epoch 48/100\n",
      "2037/2037 [==============================] - 4s 2ms/step - loss: 0.9753 - acc: 0.6048 - val_loss: 1.2949 - val_acc: 0.4449\n",
      "Epoch 49/100\n",
      "2037/2037 [==============================] - 4s 2ms/step - loss: 0.9632 - acc: 0.6097 - val_loss: 1.3018 - val_acc: 0.4317\n",
      "Epoch 50/100\n",
      "2037/2037 [==============================] - 4s 2ms/step - loss: 0.9243 - acc: 0.6244 - val_loss: 1.2854 - val_acc: 0.4361\n",
      "Epoch 51/100\n",
      "2037/2037 [==============================] - 4s 2ms/step - loss: 0.9401 - acc: 0.6141 - val_loss: 1.3211 - val_acc: 0.4317\n",
      "Epoch 52/100\n",
      "2037/2037 [==============================] - 4s 2ms/step - loss: 0.9462 - acc: 0.6136 - val_loss: 1.3076 - val_acc: 0.4273\n",
      "Epoch 53/100\n",
      "2037/2037 [==============================] - 4s 2ms/step - loss: 0.9487 - acc: 0.6112 - val_loss: 1.3025 - val_acc: 0.4273\n",
      "Epoch 54/100\n",
      "2037/2037 [==============================] - 4s 2ms/step - loss: 0.9538 - acc: 0.6151 - val_loss: 1.3049 - val_acc: 0.4405\n",
      "Epoch 55/100\n",
      "2037/2037 [==============================] - 4s 2ms/step - loss: 0.9474 - acc: 0.6200 - val_loss: 1.2875 - val_acc: 0.4405\n",
      "Epoch 56/100\n",
      "2037/2037 [==============================] - 4s 2ms/step - loss: 0.9734 - acc: 0.5891 - val_loss: 1.2809 - val_acc: 0.4097\n",
      "Epoch 57/100\n",
      "2037/2037 [==============================] - 4s 2ms/step - loss: 1.0078 - acc: 0.5960 - val_loss: 1.2945 - val_acc: 0.4714\n",
      "Epoch 58/100\n",
      "2037/2037 [==============================] - 4s 2ms/step - loss: 0.9380 - acc: 0.6082 - val_loss: 1.2983 - val_acc: 0.4714\n",
      "Epoch 59/100\n",
      "2037/2037 [==============================] - 4s 2ms/step - loss: 0.9509 - acc: 0.6176 - val_loss: 1.3053 - val_acc: 0.4626\n",
      "Epoch 60/100\n",
      "2037/2037 [==============================] - 4s 2ms/step - loss: 0.9318 - acc: 0.6259 - val_loss: 1.2935 - val_acc: 0.4493\n"
     ]
    },
    {
     "name": "stdout",
     "output_type": "stream",
     "text": [
      "Epoch 61/100\n",
      "2037/2037 [==============================] - 4s 2ms/step - loss: 0.9252 - acc: 0.6264 - val_loss: 1.3035 - val_acc: 0.4537\n",
      "Epoch 62/100\n",
      "2037/2037 [==============================] - 4s 2ms/step - loss: 0.9244 - acc: 0.6210 - val_loss: 1.2737 - val_acc: 0.4537\n",
      "Epoch 63/100\n",
      "2037/2037 [==============================] - 4s 2ms/step - loss: 0.8990 - acc: 0.6215 - val_loss: 1.2768 - val_acc: 0.4581\n",
      "Epoch 64/100\n",
      "2037/2037 [==============================] - 4s 2ms/step - loss: 0.9340 - acc: 0.6082 - val_loss: 1.3184 - val_acc: 0.4185\n",
      "Epoch 65/100\n",
      "2037/2037 [==============================] - 4s 2ms/step - loss: 0.9260 - acc: 0.6259 - val_loss: 1.2997 - val_acc: 0.4361\n",
      "Epoch 66/100\n",
      "2037/2037 [==============================] - 4s 2ms/step - loss: 0.9445 - acc: 0.6053 - val_loss: 1.2904 - val_acc: 0.4626\n",
      "Epoch 67/100\n",
      "2037/2037 [==============================] - 4s 2ms/step - loss: 0.9195 - acc: 0.6240 - val_loss: 1.3076 - val_acc: 0.4449\n",
      "Epoch 68/100\n",
      "2037/2037 [==============================] - 4s 2ms/step - loss: 0.9465 - acc: 0.6156 - val_loss: 1.2851 - val_acc: 0.4361\n",
      "Epoch 69/100\n",
      "2037/2037 [==============================] - 4s 2ms/step - loss: 0.9403 - acc: 0.5940 - val_loss: 1.3013 - val_acc: 0.4405\n",
      "Epoch 70/100\n",
      "2037/2037 [==============================] - 4s 2ms/step - loss: 0.9720 - acc: 0.5876 - val_loss: 1.2820 - val_acc: 0.4537\n",
      "Epoch 71/100\n",
      "2037/2037 [==============================] - 4s 2ms/step - loss: 0.9128 - acc: 0.6190 - val_loss: 1.2786 - val_acc: 0.4493\n",
      "Epoch 72/100\n",
      "2037/2037 [==============================] - 4s 2ms/step - loss: 0.9201 - acc: 0.6249 - val_loss: 1.3063 - val_acc: 0.4537\n",
      "Epoch 73/100\n",
      "2037/2037 [==============================] - 4s 2ms/step - loss: 0.9196 - acc: 0.6289 - val_loss: 1.2801 - val_acc: 0.4405\n",
      "Epoch 74/100\n",
      "2037/2037 [==============================] - 4s 2ms/step - loss: 0.9097 - acc: 0.6279 - val_loss: 1.2708 - val_acc: 0.4581\n",
      "Epoch 75/100\n",
      "2037/2037 [==============================] - 4s 2ms/step - loss: 0.9819 - acc: 0.6009 - val_loss: 1.3169 - val_acc: 0.4493\n",
      "Epoch 76/100\n",
      "2037/2037 [==============================] - 4s 2ms/step - loss: 0.9290 - acc: 0.6171 - val_loss: 1.2952 - val_acc: 0.4405\n",
      "Epoch 77/100\n",
      "2037/2037 [==============================] - 4s 2ms/step - loss: 0.9156 - acc: 0.6264 - val_loss: 1.2748 - val_acc: 0.4449\n",
      "Epoch 78/100\n",
      "2037/2037 [==============================] - 4s 2ms/step - loss: 0.9208 - acc: 0.6249 - val_loss: 1.2913 - val_acc: 0.4361\n",
      "Epoch 79/100\n",
      "2037/2037 [==============================] - 4s 2ms/step - loss: 0.9069 - acc: 0.6362 - val_loss: 1.3089 - val_acc: 0.4493\n",
      "Epoch 80/100\n",
      "2037/2037 [==============================] - 4s 2ms/step - loss: 0.9050 - acc: 0.6244 - val_loss: 1.3014 - val_acc: 0.4405\n",
      "Epoch 81/100\n",
      "2037/2037 [==============================] - 4s 2ms/step - loss: 0.9012 - acc: 0.6323 - val_loss: 1.2660 - val_acc: 0.4537\n",
      "Epoch 82/100\n",
      "2037/2037 [==============================] - 4s 2ms/step - loss: 0.9382 - acc: 0.6161 - val_loss: 1.2960 - val_acc: 0.4361\n",
      "Epoch 83/100\n",
      "2037/2037 [==============================] - 4s 2ms/step - loss: 0.9127 - acc: 0.6200 - val_loss: 1.2722 - val_acc: 0.4449\n",
      "Epoch 84/100\n",
      "2037/2037 [==============================] - 4s 2ms/step - loss: 0.9162 - acc: 0.6200 - val_loss: 1.2839 - val_acc: 0.4361\n",
      "Epoch 85/100\n",
      "2037/2037 [==============================] - 4s 2ms/step - loss: 0.9241 - acc: 0.6151 - val_loss: 1.3005 - val_acc: 0.4449\n",
      "Epoch 86/100\n",
      "2037/2037 [==============================] - 4s 2ms/step - loss: 0.9215 - acc: 0.6190 - val_loss: 1.2916 - val_acc: 0.4758\n",
      "Epoch 87/100\n",
      "2037/2037 [==============================] - 4s 2ms/step - loss: 0.9084 - acc: 0.6220 - val_loss: 1.2940 - val_acc: 0.4537\n",
      "Epoch 88/100\n",
      "2037/2037 [==============================] - 4s 2ms/step - loss: 0.8959 - acc: 0.6490 - val_loss: 1.3135 - val_acc: 0.4581\n",
      "Epoch 89/100\n",
      "2037/2037 [==============================] - 4s 2ms/step - loss: 0.9072 - acc: 0.6235 - val_loss: 1.3185 - val_acc: 0.4405\n",
      "Epoch 90/100\n",
      "2037/2037 [==============================] - 4s 2ms/step - loss: 0.9170 - acc: 0.6249 - val_loss: 1.2856 - val_acc: 0.4537\n",
      "Epoch 91/100\n",
      "2037/2037 [==============================] - 4s 2ms/step - loss: 0.9062 - acc: 0.6289 - val_loss: 1.3073 - val_acc: 0.4493\n",
      "Epoch 92/100\n",
      "2037/2037 [==============================] - 4s 2ms/step - loss: 0.8845 - acc: 0.6475 - val_loss: 1.2783 - val_acc: 0.4537\n",
      "Epoch 93/100\n",
      "2037/2037 [==============================] - 4s 2ms/step - loss: 0.8956 - acc: 0.6333 - val_loss: 1.2904 - val_acc: 0.4714\n",
      "Epoch 94/100\n",
      "2037/2037 [==============================] - 4s 2ms/step - loss: 0.9160 - acc: 0.6240 - val_loss: 1.2741 - val_acc: 0.4449\n",
      "Epoch 95/100\n",
      "2037/2037 [==============================] - 4s 2ms/step - loss: 0.8874 - acc: 0.6249 - val_loss: 1.2779 - val_acc: 0.4537\n",
      "Epoch 96/100\n",
      "2037/2037 [==============================] - 4s 2ms/step - loss: 0.8878 - acc: 0.6254 - val_loss: 1.2746 - val_acc: 0.4449\n",
      "Epoch 97/100\n",
      "2037/2037 [==============================] - 4s 2ms/step - loss: 0.9043 - acc: 0.6289 - val_loss: 1.2675 - val_acc: 0.4317\n",
      "Epoch 98/100\n",
      "2037/2037 [==============================] - 4s 2ms/step - loss: 0.9033 - acc: 0.6303 - val_loss: 1.2902 - val_acc: 0.4405\n",
      "Epoch 99/100\n",
      "2037/2037 [==============================] - 4s 2ms/step - loss: 0.9156 - acc: 0.6215 - val_loss: 1.2967 - val_acc: 0.4537\n",
      "Epoch 100/100\n",
      "2037/2037 [==============================] - 4s 2ms/step - loss: 0.9002 - acc: 0.6264 - val_loss: 1.2717 - val_acc: 0.4273\n"
     ]
    },
    {
     "data": {
      "text/plain": [
       "<keras.callbacks.History at 0x7f8971010748>"
      ]
     },
     "execution_count": 22,
     "metadata": {},
     "output_type": "execute_result"
    }
   ],
   "source": [
    "\n",
    "model.fit(xtrain, ytrain,\n",
    "          batch_size=1000,\n",
    "          epochs=100,\n",
    "          verbose=1,\n",
    "          validation_split=0.1,\n",
    "          callbacks=[model_checkpoint])"
   ]
  },
  {
   "cell_type": "code",
   "execution_count": null,
   "metadata": {},
   "outputs": [],
   "source": []
  },
  {
   "cell_type": "code",
   "execution_count": 33,
   "metadata": {},
   "outputs": [
    {
     "name": "stdout",
     "output_type": "stream",
     "text": [
      "221 322 843 532 345 1\n"
     ]
    }
   ],
   "source": [
    "count0=0\n",
    "count1=0\n",
    "count2=0\n",
    "count3=0\n",
    "count4=0\n",
    "count5=0\n",
    "\n",
    "\n",
    "for y in ytrain:\n",
    "    if np.argmax(y)==0:\n",
    "        count0=count0+1\n",
    "        \n",
    "    if np.argmax(y)==1:\n",
    "        count1=count1+1\n",
    "        \n",
    "    if np.argmax(y)==2:\n",
    "        count2=count2+1\n",
    "        \n",
    "    if np.argmax(y)==3:\n",
    "        count3=count3+1\n",
    "        \n",
    "    if np.argmax(y)==4:\n",
    "        count4=count4+1\n",
    "        \n",
    "    if np.argmax(y)==5:\n",
    "        count5=count5+1\n",
    "    \n",
    "print(count0,count1,count2,count3,count4,count5)"
   ]
  },
  {
   "cell_type": "code",
   "execution_count": 6,
   "metadata": {},
   "outputs": [],
   "source": [
    "img_rows = 64\n",
    "img_cols=64\n",
    "channels=64\n",
    "num_classes = 6"
   ]
  },
  {
   "cell_type": "code",
   "execution_count": 7,
   "metadata": {},
   "outputs": [],
   "source": [
    "INIT_LR = 1e-3\n",
    "middle_layers_activation = \"relu\"\n",
    "\n",
    "last_layer_activation = \"softmax\"\n",
    "\n",
    "batch_size = 500\n",
    "epochs = 30"
   ]
  },
  {
   "cell_type": "code",
   "execution_count": 35,
   "metadata": {},
   "outputs": [],
   "source": [
    "input_shape = (img_rows, img_cols, channels)\n",
    "\n",
    "model1 = Sequential()\n",
    "\n",
    "model1.add(Conv2D(20, (5, 5), padding=\"same\",\n",
    "\n",
    "        input_shape=input_shape))\n",
    "\n",
    "model1.add(Activation(middle_layers_activation))\n",
    "model1.add(Dropout(0.2))\n",
    "\n",
    "model1.add(MaxPooling2D(pool_size=(2, 2), strides=(2, 2)))\n",
    "\n",
    "model1.add(Conv2D(50, (5, 5), padding=\"same\"))\n",
    "\n",
    "model1.add(Activation(middle_layers_activation))\n",
    "\n",
    "model1.add(Dropout(0.2))\n",
    "\n",
    "model1.add(MaxPooling2D(pool_size=(2, 2), strides=(2, 2)))   \n",
    "\n",
    "model1.add(Flatten())\n",
    "\n",
    "model1.add(Dense(500))\n",
    "\n",
    "model1.add(Activation(middle_layers_activation)) \n",
    "\n",
    "model1.add(Dropout(0.3))\n",
    "model1.add(Dense(num_classes))\n",
    "\n",
    "model1.add(Activation(last_layer_activation))\n",
    "\n",
    "opt = Adam(lr=INIT_LR, decay=INIT_LR / epochs)\n",
    "\n",
    "model1.compile(loss=\"binary_crossentropy\",\n",
    "\n",
    "              optimizer=opt,\n",
    "\n",
    "              metrics=['accuracy'])\n",
    "\n",
    "\n"
   ]
  },
  {
   "cell_type": "code",
   "execution_count": 36,
   "metadata": {},
   "outputs": [],
   "source": [
    "model_checkpoint = ModelCheckpoint('lenetdel.hdf5', monitor='loss', save_best_only=True)"
   ]
  },
  {
   "cell_type": "code",
   "execution_count": 31,
   "metadata": {},
   "outputs": [],
   "source": [
    "model1.load_weights('lenet.hdf5')"
   ]
  },
  {
   "cell_type": "code",
   "execution_count": 37,
   "metadata": {},
   "outputs": [
    {
     "name": "stdout",
     "output_type": "stream",
     "text": [
      "Train on 2037 samples, validate on 227 samples\n",
      "Epoch 1/100\n",
      "2037/2037 [==============================] - 5s 2ms/step - loss: 0.4871 - acc: 0.8250 - val_loss: 0.4037 - val_acc: 0.8333\n",
      "Epoch 2/100\n",
      "2037/2037 [==============================] - 4s 2ms/step - loss: 0.3909 - acc: 0.8309 - val_loss: 0.3943 - val_acc: 0.8333\n",
      "Epoch 3/100\n",
      "2037/2037 [==============================] - 4s 2ms/step - loss: 0.3778 - acc: 0.8315 - val_loss: 0.3818 - val_acc: 0.8333\n",
      "Epoch 4/100\n",
      "2037/2037 [==============================] - 4s 2ms/step - loss: 0.3700 - acc: 0.8333 - val_loss: 0.3765 - val_acc: 0.8326\n",
      "Epoch 5/100\n",
      "2037/2037 [==============================] - 4s 2ms/step - loss: 0.3543 - acc: 0.8370 - val_loss: 0.3745 - val_acc: 0.8341\n",
      "Epoch 6/100\n",
      "2037/2037 [==============================] - 4s 2ms/step - loss: 0.3412 - acc: 0.8438 - val_loss: 0.3727 - val_acc: 0.8282\n",
      "Epoch 7/100\n",
      "2037/2037 [==============================] - 4s 2ms/step - loss: 0.3275 - acc: 0.8477 - val_loss: 0.3655 - val_acc: 0.8414\n",
      "Epoch 8/100\n",
      "2037/2037 [==============================] - 4s 2ms/step - loss: 0.3065 - acc: 0.8614 - val_loss: 0.3619 - val_acc: 0.8363\n",
      "Epoch 9/100\n",
      "2037/2037 [==============================] - 4s 2ms/step - loss: 0.2987 - acc: 0.8594 - val_loss: 0.3674 - val_acc: 0.8341\n",
      "Epoch 10/100\n",
      "2037/2037 [==============================] - 4s 2ms/step - loss: 0.2842 - acc: 0.8672 - val_loss: 0.3599 - val_acc: 0.8377\n",
      "Epoch 11/100\n",
      "2037/2037 [==============================] - 4s 2ms/step - loss: 0.2707 - acc: 0.8736 - val_loss: 0.3693 - val_acc: 0.8414\n",
      "Epoch 12/100\n",
      " 300/2037 [===>..........................] - ETA: 3s - loss: 0.2380 - acc: 0.8856"
     ]
    },
    {
     "ename": "KeyboardInterrupt",
     "evalue": "",
     "output_type": "error",
     "traceback": [
      "\u001b[0;31m---------------------------------------------------------------------------\u001b[0m",
      "\u001b[0;31mKeyboardInterrupt\u001b[0m                         Traceback (most recent call last)",
      "\u001b[0;32m<ipython-input-37-84796de0f2af>\u001b[0m in \u001b[0;36m<module>\u001b[0;34m()\u001b[0m\n\u001b[1;32m      1\u001b[0m history = model1.fit(xtrain, ytrain,\n\u001b[0;32m----> 2\u001b[0;31m                    batch_size = 60, epochs=100, shuffle=True,  validation_split=0.1 , callbacks = [model_checkpoint])\n\u001b[0m",
      "\u001b[0;32m/usr/local/lib/python3.6/site-packages/keras/models.py\u001b[0m in \u001b[0;36mfit\u001b[0;34m(self, x, y, batch_size, epochs, verbose, callbacks, validation_split, validation_data, shuffle, class_weight, sample_weight, initial_epoch, steps_per_epoch, validation_steps, **kwargs)\u001b[0m\n\u001b[1;32m    961\u001b[0m                               \u001b[0minitial_epoch\u001b[0m\u001b[0;34m=\u001b[0m\u001b[0minitial_epoch\u001b[0m\u001b[0;34m,\u001b[0m\u001b[0;34m\u001b[0m\u001b[0m\n\u001b[1;32m    962\u001b[0m                               \u001b[0msteps_per_epoch\u001b[0m\u001b[0;34m=\u001b[0m\u001b[0msteps_per_epoch\u001b[0m\u001b[0;34m,\u001b[0m\u001b[0;34m\u001b[0m\u001b[0m\n\u001b[0;32m--> 963\u001b[0;31m                               validation_steps=validation_steps)\n\u001b[0m\u001b[1;32m    964\u001b[0m \u001b[0;34m\u001b[0m\u001b[0m\n\u001b[1;32m    965\u001b[0m     def evaluate(self, x=None, y=None,\n",
      "\u001b[0;32m/usr/local/lib/python3.6/site-packages/keras/engine/training.py\u001b[0m in \u001b[0;36mfit\u001b[0;34m(self, x, y, batch_size, epochs, verbose, callbacks, validation_split, validation_data, shuffle, class_weight, sample_weight, initial_epoch, steps_per_epoch, validation_steps, **kwargs)\u001b[0m\n\u001b[1;32m   1703\u001b[0m                               \u001b[0minitial_epoch\u001b[0m\u001b[0;34m=\u001b[0m\u001b[0minitial_epoch\u001b[0m\u001b[0;34m,\u001b[0m\u001b[0;34m\u001b[0m\u001b[0m\n\u001b[1;32m   1704\u001b[0m                               \u001b[0msteps_per_epoch\u001b[0m\u001b[0;34m=\u001b[0m\u001b[0msteps_per_epoch\u001b[0m\u001b[0;34m,\u001b[0m\u001b[0;34m\u001b[0m\u001b[0m\n\u001b[0;32m-> 1705\u001b[0;31m                               validation_steps=validation_steps)\n\u001b[0m\u001b[1;32m   1706\u001b[0m \u001b[0;34m\u001b[0m\u001b[0m\n\u001b[1;32m   1707\u001b[0m     def evaluate(self, x=None, y=None,\n",
      "\u001b[0;32m/usr/local/lib/python3.6/site-packages/keras/engine/training.py\u001b[0m in \u001b[0;36m_fit_loop\u001b[0;34m(self, f, ins, out_labels, batch_size, epochs, verbose, callbacks, val_f, val_ins, shuffle, callback_metrics, initial_epoch, steps_per_epoch, validation_steps)\u001b[0m\n\u001b[1;32m   1233\u001b[0m                         \u001b[0mins_batch\u001b[0m\u001b[0;34m[\u001b[0m\u001b[0mi\u001b[0m\u001b[0;34m]\u001b[0m \u001b[0;34m=\u001b[0m \u001b[0mins_batch\u001b[0m\u001b[0;34m[\u001b[0m\u001b[0mi\u001b[0m\u001b[0;34m]\u001b[0m\u001b[0;34m.\u001b[0m\u001b[0mtoarray\u001b[0m\u001b[0;34m(\u001b[0m\u001b[0;34m)\u001b[0m\u001b[0;34m\u001b[0m\u001b[0m\n\u001b[1;32m   1234\u001b[0m \u001b[0;34m\u001b[0m\u001b[0m\n\u001b[0;32m-> 1235\u001b[0;31m                     \u001b[0mouts\u001b[0m \u001b[0;34m=\u001b[0m \u001b[0mf\u001b[0m\u001b[0;34m(\u001b[0m\u001b[0mins_batch\u001b[0m\u001b[0;34m)\u001b[0m\u001b[0;34m\u001b[0m\u001b[0m\n\u001b[0m\u001b[1;32m   1236\u001b[0m                     \u001b[0;32mif\u001b[0m \u001b[0;32mnot\u001b[0m \u001b[0misinstance\u001b[0m\u001b[0;34m(\u001b[0m\u001b[0mouts\u001b[0m\u001b[0;34m,\u001b[0m \u001b[0mlist\u001b[0m\u001b[0;34m)\u001b[0m\u001b[0;34m:\u001b[0m\u001b[0;34m\u001b[0m\u001b[0m\n\u001b[1;32m   1237\u001b[0m                         \u001b[0mouts\u001b[0m \u001b[0;34m=\u001b[0m \u001b[0;34m[\u001b[0m\u001b[0mouts\u001b[0m\u001b[0;34m]\u001b[0m\u001b[0;34m\u001b[0m\u001b[0m\n",
      "\u001b[0;32m/usr/local/lib/python3.6/site-packages/keras/backend/tensorflow_backend.py\u001b[0m in \u001b[0;36m__call__\u001b[0;34m(self, inputs)\u001b[0m\n\u001b[1;32m   2476\u001b[0m         \u001b[0msession\u001b[0m \u001b[0;34m=\u001b[0m \u001b[0mget_session\u001b[0m\u001b[0;34m(\u001b[0m\u001b[0;34m)\u001b[0m\u001b[0;34m\u001b[0m\u001b[0m\n\u001b[1;32m   2477\u001b[0m         updated = session.run(fetches=fetches, feed_dict=feed_dict,\n\u001b[0;32m-> 2478\u001b[0;31m                               **self.session_kwargs)\n\u001b[0m\u001b[1;32m   2479\u001b[0m         \u001b[0;32mreturn\u001b[0m \u001b[0mupdated\u001b[0m\u001b[0;34m[\u001b[0m\u001b[0;34m:\u001b[0m\u001b[0mlen\u001b[0m\u001b[0;34m(\u001b[0m\u001b[0mself\u001b[0m\u001b[0;34m.\u001b[0m\u001b[0moutputs\u001b[0m\u001b[0;34m)\u001b[0m\u001b[0;34m]\u001b[0m\u001b[0;34m\u001b[0m\u001b[0m\n\u001b[1;32m   2480\u001b[0m \u001b[0;34m\u001b[0m\u001b[0m\n",
      "\u001b[0;32m/usr/local/lib/python3.6/site-packages/tensorflow/python/client/session.py\u001b[0m in \u001b[0;36mrun\u001b[0;34m(self, fetches, feed_dict, options, run_metadata)\u001b[0m\n\u001b[1;32m    887\u001b[0m     \u001b[0;32mtry\u001b[0m\u001b[0;34m:\u001b[0m\u001b[0;34m\u001b[0m\u001b[0m\n\u001b[1;32m    888\u001b[0m       result = self._run(None, fetches, feed_dict, options_ptr,\n\u001b[0;32m--> 889\u001b[0;31m                          run_metadata_ptr)\n\u001b[0m\u001b[1;32m    890\u001b[0m       \u001b[0;32mif\u001b[0m \u001b[0mrun_metadata\u001b[0m\u001b[0;34m:\u001b[0m\u001b[0;34m\u001b[0m\u001b[0m\n\u001b[1;32m    891\u001b[0m         \u001b[0mproto_data\u001b[0m \u001b[0;34m=\u001b[0m \u001b[0mtf_session\u001b[0m\u001b[0;34m.\u001b[0m\u001b[0mTF_GetBuffer\u001b[0m\u001b[0;34m(\u001b[0m\u001b[0mrun_metadata_ptr\u001b[0m\u001b[0;34m)\u001b[0m\u001b[0;34m\u001b[0m\u001b[0m\n",
      "\u001b[0;32m/usr/local/lib/python3.6/site-packages/tensorflow/python/client/session.py\u001b[0m in \u001b[0;36m_run\u001b[0;34m(self, handle, fetches, feed_dict, options, run_metadata)\u001b[0m\n\u001b[1;32m   1118\u001b[0m     \u001b[0;32mif\u001b[0m \u001b[0mfinal_fetches\u001b[0m \u001b[0;32mor\u001b[0m \u001b[0mfinal_targets\u001b[0m \u001b[0;32mor\u001b[0m \u001b[0;34m(\u001b[0m\u001b[0mhandle\u001b[0m \u001b[0;32mand\u001b[0m \u001b[0mfeed_dict_tensor\u001b[0m\u001b[0;34m)\u001b[0m\u001b[0;34m:\u001b[0m\u001b[0;34m\u001b[0m\u001b[0m\n\u001b[1;32m   1119\u001b[0m       results = self._do_run(handle, final_targets, final_fetches,\n\u001b[0;32m-> 1120\u001b[0;31m                              feed_dict_tensor, options, run_metadata)\n\u001b[0m\u001b[1;32m   1121\u001b[0m     \u001b[0;32melse\u001b[0m\u001b[0;34m:\u001b[0m\u001b[0;34m\u001b[0m\u001b[0m\n\u001b[1;32m   1122\u001b[0m       \u001b[0mresults\u001b[0m \u001b[0;34m=\u001b[0m \u001b[0;34m[\u001b[0m\u001b[0;34m]\u001b[0m\u001b[0;34m\u001b[0m\u001b[0m\n",
      "\u001b[0;32m/usr/local/lib/python3.6/site-packages/tensorflow/python/client/session.py\u001b[0m in \u001b[0;36m_do_run\u001b[0;34m(self, handle, target_list, fetch_list, feed_dict, options, run_metadata)\u001b[0m\n\u001b[1;32m   1315\u001b[0m     \u001b[0;32mif\u001b[0m \u001b[0mhandle\u001b[0m \u001b[0;32mis\u001b[0m \u001b[0;32mNone\u001b[0m\u001b[0;34m:\u001b[0m\u001b[0;34m\u001b[0m\u001b[0m\n\u001b[1;32m   1316\u001b[0m       return self._do_call(_run_fn, self._session, feeds, fetches, targets,\n\u001b[0;32m-> 1317\u001b[0;31m                            options, run_metadata)\n\u001b[0m\u001b[1;32m   1318\u001b[0m     \u001b[0;32melse\u001b[0m\u001b[0;34m:\u001b[0m\u001b[0;34m\u001b[0m\u001b[0m\n\u001b[1;32m   1319\u001b[0m       \u001b[0;32mreturn\u001b[0m \u001b[0mself\u001b[0m\u001b[0;34m.\u001b[0m\u001b[0m_do_call\u001b[0m\u001b[0;34m(\u001b[0m\u001b[0m_prun_fn\u001b[0m\u001b[0;34m,\u001b[0m \u001b[0mself\u001b[0m\u001b[0;34m.\u001b[0m\u001b[0m_session\u001b[0m\u001b[0;34m,\u001b[0m \u001b[0mhandle\u001b[0m\u001b[0;34m,\u001b[0m \u001b[0mfeeds\u001b[0m\u001b[0;34m,\u001b[0m \u001b[0mfetches\u001b[0m\u001b[0;34m)\u001b[0m\u001b[0;34m\u001b[0m\u001b[0m\n",
      "\u001b[0;32m/usr/local/lib/python3.6/site-packages/tensorflow/python/client/session.py\u001b[0m in \u001b[0;36m_do_call\u001b[0;34m(self, fn, *args)\u001b[0m\n\u001b[1;32m   1321\u001b[0m   \u001b[0;32mdef\u001b[0m \u001b[0m_do_call\u001b[0m\u001b[0;34m(\u001b[0m\u001b[0mself\u001b[0m\u001b[0;34m,\u001b[0m \u001b[0mfn\u001b[0m\u001b[0;34m,\u001b[0m \u001b[0;34m*\u001b[0m\u001b[0margs\u001b[0m\u001b[0;34m)\u001b[0m\u001b[0;34m:\u001b[0m\u001b[0;34m\u001b[0m\u001b[0m\n\u001b[1;32m   1322\u001b[0m     \u001b[0;32mtry\u001b[0m\u001b[0;34m:\u001b[0m\u001b[0;34m\u001b[0m\u001b[0m\n\u001b[0;32m-> 1323\u001b[0;31m       \u001b[0;32mreturn\u001b[0m \u001b[0mfn\u001b[0m\u001b[0;34m(\u001b[0m\u001b[0;34m*\u001b[0m\u001b[0margs\u001b[0m\u001b[0;34m)\u001b[0m\u001b[0;34m\u001b[0m\u001b[0m\n\u001b[0m\u001b[1;32m   1324\u001b[0m     \u001b[0;32mexcept\u001b[0m \u001b[0merrors\u001b[0m\u001b[0;34m.\u001b[0m\u001b[0mOpError\u001b[0m \u001b[0;32mas\u001b[0m \u001b[0me\u001b[0m\u001b[0;34m:\u001b[0m\u001b[0;34m\u001b[0m\u001b[0m\n\u001b[1;32m   1325\u001b[0m       \u001b[0mmessage\u001b[0m \u001b[0;34m=\u001b[0m \u001b[0mcompat\u001b[0m\u001b[0;34m.\u001b[0m\u001b[0mas_text\u001b[0m\u001b[0;34m(\u001b[0m\u001b[0me\u001b[0m\u001b[0;34m.\u001b[0m\u001b[0mmessage\u001b[0m\u001b[0;34m)\u001b[0m\u001b[0;34m\u001b[0m\u001b[0m\n",
      "\u001b[0;32m/usr/local/lib/python3.6/site-packages/tensorflow/python/client/session.py\u001b[0m in \u001b[0;36m_run_fn\u001b[0;34m(session, feed_dict, fetch_list, target_list, options, run_metadata)\u001b[0m\n\u001b[1;32m   1300\u001b[0m           return tf_session.TF_Run(session, options,\n\u001b[1;32m   1301\u001b[0m                                    \u001b[0mfeed_dict\u001b[0m\u001b[0;34m,\u001b[0m \u001b[0mfetch_list\u001b[0m\u001b[0;34m,\u001b[0m \u001b[0mtarget_list\u001b[0m\u001b[0;34m,\u001b[0m\u001b[0;34m\u001b[0m\u001b[0m\n\u001b[0;32m-> 1302\u001b[0;31m                                    status, run_metadata)\n\u001b[0m\u001b[1;32m   1303\u001b[0m \u001b[0;34m\u001b[0m\u001b[0m\n\u001b[1;32m   1304\u001b[0m     \u001b[0;32mdef\u001b[0m \u001b[0m_prun_fn\u001b[0m\u001b[0;34m(\u001b[0m\u001b[0msession\u001b[0m\u001b[0;34m,\u001b[0m \u001b[0mhandle\u001b[0m\u001b[0;34m,\u001b[0m \u001b[0mfeed_dict\u001b[0m\u001b[0;34m,\u001b[0m \u001b[0mfetch_list\u001b[0m\u001b[0;34m)\u001b[0m\u001b[0;34m:\u001b[0m\u001b[0;34m\u001b[0m\u001b[0m\n",
      "\u001b[0;31mKeyboardInterrupt\u001b[0m: "
     ]
    }
   ],
   "source": [
    "history = model1.fit(xtrain, ytrain,\n",
    "                   batch_size = 60, epochs=100, shuffle=True,  validation_split=0.1 , callbacks = [model_checkpoint])\n"
   ]
  },
  {
   "cell_type": "code",
   "execution_count": 18,
   "metadata": {},
   "outputs": [],
   "source": [
    "from sklearn.metrics import confusion_matrix"
   ]
  },
  {
   "cell_type": "code",
   "execution_count": 27,
   "metadata": {},
   "outputs": [
    {
     "data": {
      "text/plain": [
       "array([[179,  11,  26,   3,   2,   0],\n",
       "       [ 21, 218,  63,  18,   2,   0],\n",
       "       [ 16,  37, 729,  48,  13,   0],\n",
       "       [ 10,  25, 110, 378,   9,   0],\n",
       "       [  2,   8,  26,  15, 294,   0],\n",
       "       [  0,   0,   0,   0,   0,   1]])"
      ]
     },
     "execution_count": 27,
     "metadata": {},
     "output_type": "execute_result"
    }
   ],
   "source": [
    "predicted = model1.predict(xtrain[:])\n",
    "pre = np.argmax(predicted,axis=1)\n",
    "tru = np.argmax(ytrain[:],axis=1)\n",
    "confusion_matrix(tru, pre)"
   ]
  },
  {
   "cell_type": "code",
   "execution_count": null,
   "metadata": {},
   "outputs": [],
   "source": [
    "#SEA born"
   ]
  },
  {
   "cell_type": "code",
   "execution_count": 33,
   "metadata": {},
   "outputs": [],
   "source": [
    "def plotmymodel(history):\n",
    "    # list all data in history\n",
    "    print(history.history.keys())\n",
    "    # summarize history for accuracy\n",
    "    plt.plot(history.history['acc'])\n",
    "    plt.plot(history.history['val_acc'])\n",
    "    plt.title('model accuracy')\n",
    "    plt.ylabel('accuracy')\n",
    "    plt.xlabel('epoch')\n",
    "    plt.legend(['train', 'test'], loc='upper left')\n",
    "    plt.show()\n",
    "    # summarize history for loss\n",
    "    plt.plot(history.history['loss'])\n",
    "    plt.plot(history.history['val_loss'])\n",
    "    plt.title('model loss')\n",
    "    plt.ylabel('loss')\n",
    "    plt.xlabel('epoch')\n",
    "    plt.legend(['train', 'test'], loc='upper left')\n",
    "    plt.show()"
   ]
  },
  {
   "cell_type": "code",
   "execution_count": 34,
   "metadata": {},
   "outputs": [
    {
     "name": "stdout",
     "output_type": "stream",
     "text": [
      "dict_keys(['val_loss', 'val_acc', 'loss', 'acc'])\n"
     ]
    },
    {
     "data": {
      "image/png": "[encoded data removed]",
      "text/plain": [
       "<matplotlib.figure.Figure at 0x7fa05fc95080>"
      ]
     },
     "metadata": {},
     "output_type": "display_data"
    },
    {
     "data": {
      "image/png": "[encoded data removed]",
      "text/plain": [
       "<matplotlib.figure.Figure at 0x7fa05fcdb5f8>"
      ]
     },
     "metadata": {},
     "output_type": "display_data"
    }
   ],
   "source": [
    "plotmymodel(history)"
   ]
  },
  {
   "cell_type": "code",
   "execution_count": null,
   "metadata": {},
   "outputs": [],
   "source": []
  },
  {
   "cell_type": "code",
   "execution_count": 39,
   "metadata": {},
   "outputs": [],
   "source": [
    "def inceptionlayer(prev):\n",
    "    tower_1 = Conv3D(64, (1,1,1), padding='same', activation='relu')(prev)\n",
    "    tower_1 = Conv3D(64, (3,3,3), padding='same', activation='relu')(tower_1)\n",
    "    tower_2 = Conv3D(64, (1,1,1), padding='same', activation='relu')(prev)\n",
    "    tower_2 = Conv3D(64, (5,5,5), padding='same', activation='relu')(tower_2)\n",
    "    tower_3 = MaxPooling3D((3,3,3), strides=(1,1,1), padding='same')(prev)\n",
    "    tower_3 = Conv3D(64, (1,1,1), padding='same', activation='relu')(tower_3)\n",
    "    output = k.layers.concatenate([tower_1, tower_2, tower_3], axis = 3)\n",
    "    \n",
    "    return output"
   ]
  },
  {
   "cell_type": "code",
   "execution_count": 50,
   "metadata": {},
   "outputs": [],
   "source": [
    "#GOOGLENET\n",
    "def makegooglenet():\n",
    "    x    = Input(shape=(64,64,64,1))\n",
    "    conv1= Conv3D(32,kernel_size=(7,7,7),activation='relu')(x)\n",
    "    conv1= Dropout(0.3)(conv1)\n",
    "    max1 = MaxPooling3D(pool_size=(2,2,2))(conv1)\n",
    "    conv2= Conv3D(32,kernel_size=(3,3,3),activation='relu')(max1)\n",
    "    conv2= Dropout(0.3)(conv2)\n",
    "    max2 = MaxPooling3D(pool_size=(2,2,2))(conv2)\n",
    "    incp1= inceptionlayer(max2)\n",
    "    incp1= Dropout(0.3)(incp1)\n",
    "    incp2= inceptionlayer(incp1)\n",
    "    incp2= Dropout(0.3)(incp2)\n",
    "    max3 = MaxPooling3D(pool_size=(2,2,2))(incp2)\n",
    "    incp3= inceptionlayer(max3)\n",
    "    incp3= Dropout(0.3)(incp3)\n",
    "    incp4= inceptionlayer(incp3)\n",
    "    incp4= Dropout(0.3)(incp4)\n",
    "    max4 = MaxPooling3D(pool_size=(2,2,2))(incp4)\n",
    "    incp5= inceptionlayer(max4)\n",
    "    incp5= Dropout(0.3)(incp5)\n",
    "    incp6= inceptionlayer(incp5)\n",
    "    incp6= Dropout(0.3)(incp6)\n",
    "    avg1= AveragePooling3D(pool_size=(2,2,2))(incp4)\n",
    "\n",
    "    flat = Flatten()(avg1)\n",
    "    flat= Dropout(0.3)(flat)\n",
    "    dense= Dense(num_classes,activation=\"softmax\")(flat)\n",
    "\n",
    "    googlenet = Model(inputs=x, outputs=dense)\n",
    "    \n",
    "    googlenet.compile(loss=k.losses.categorical_crossentropy,\n",
    "              optimizer=k.optimizers.Adam(lr=0.0001),\n",
    "              metrics=['accuracy'])\n",
    "    \n",
    "    return googlenet\n",
    "    \n",
    "   \n",
    "   "
   ]
  },
  {
   "cell_type": "code",
   "execution_count": 51,
   "metadata": {},
   "outputs": [
    {
     "name": "stdout",
     "output_type": "stream",
     "text": [
      "__________________________________________________________________________________________________\n",
      "Layer (type)                    Output Shape         Param #     Connected to                     \n",
      "==================================================================================================\n",
      "input_3 (InputLayer)            (None, 64, 64, 64, 1 0                                            \n",
      "__________________________________________________________________________________________________\n",
      "conv3d_68 (Conv3D)              (None, 58, 58, 58, 3 11008       input_3[0][0]                    \n",
      "__________________________________________________________________________________________________\n",
      "dropout_35 (Dropout)            (None, 58, 58, 58, 3 0           conv3d_68[0][0]                  \n",
      "__________________________________________________________________________________________________\n",
      "max_pooling3d_24 (MaxPooling3D) (None, 29, 29, 29, 3 0           dropout_35[0][0]                 \n",
      "__________________________________________________________________________________________________\n",
      "conv3d_69 (Conv3D)              (None, 27, 27, 27, 3 27680       max_pooling3d_24[0][0]           \n",
      "__________________________________________________________________________________________________\n",
      "dropout_36 (Dropout)            (None, 27, 27, 27, 3 0           conv3d_69[0][0]                  \n",
      "__________________________________________________________________________________________________\n",
      "max_pooling3d_25 (MaxPooling3D) (None, 13, 13, 13, 3 0           dropout_36[0][0]                 \n",
      "__________________________________________________________________________________________________\n",
      "conv3d_70 (Conv3D)              (None, 13, 13, 13, 6 2112        max_pooling3d_25[0][0]           \n",
      "__________________________________________________________________________________________________\n",
      "conv3d_72 (Conv3D)              (None, 13, 13, 13, 6 2112        max_pooling3d_25[0][0]           \n",
      "__________________________________________________________________________________________________\n",
      "max_pooling3d_26 (MaxPooling3D) (None, 13, 13, 13, 3 0           max_pooling3d_25[0][0]           \n",
      "__________________________________________________________________________________________________\n",
      "conv3d_71 (Conv3D)              (None, 13, 13, 13, 6 110656      conv3d_70[0][0]                  \n",
      "__________________________________________________________________________________________________\n",
      "conv3d_73 (Conv3D)              (None, 13, 13, 13, 6 512064      conv3d_72[0][0]                  \n",
      "__________________________________________________________________________________________________\n",
      "conv3d_74 (Conv3D)              (None, 13, 13, 13, 6 2112        max_pooling3d_26[0][0]           \n",
      "__________________________________________________________________________________________________\n",
      "concatenate_13 (Concatenate)    (None, 13, 13, 39, 6 0           conv3d_71[0][0]                  \n",
      "                                                                 conv3d_73[0][0]                  \n",
      "                                                                 conv3d_74[0][0]                  \n",
      "__________________________________________________________________________________________________\n",
      "dropout_37 (Dropout)            (None, 13, 13, 39, 6 0           concatenate_13[0][0]             \n",
      "__________________________________________________________________________________________________\n",
      "conv3d_75 (Conv3D)              (None, 13, 13, 39, 6 4160        dropout_37[0][0]                 \n",
      "__________________________________________________________________________________________________\n",
      "conv3d_77 (Conv3D)              (None, 13, 13, 39, 6 4160        dropout_37[0][0]                 \n",
      "__________________________________________________________________________________________________\n",
      "max_pooling3d_27 (MaxPooling3D) (None, 13, 13, 39, 6 0           dropout_37[0][0]                 \n",
      "__________________________________________________________________________________________________\n",
      "conv3d_76 (Conv3D)              (None, 13, 13, 39, 6 110656      conv3d_75[0][0]                  \n",
      "__________________________________________________________________________________________________\n",
      "conv3d_78 (Conv3D)              (None, 13, 13, 39, 6 512064      conv3d_77[0][0]                  \n",
      "__________________________________________________________________________________________________\n",
      "conv3d_79 (Conv3D)              (None, 13, 13, 39, 6 4160        max_pooling3d_27[0][0]           \n",
      "__________________________________________________________________________________________________\n",
      "concatenate_14 (Concatenate)    (None, 13, 13, 117,  0           conv3d_76[0][0]                  \n",
      "                                                                 conv3d_78[0][0]                  \n",
      "                                                                 conv3d_79[0][0]                  \n",
      "__________________________________________________________________________________________________\n",
      "dropout_38 (Dropout)            (None, 13, 13, 117,  0           concatenate_14[0][0]             \n",
      "__________________________________________________________________________________________________\n",
      "max_pooling3d_28 (MaxPooling3D) (None, 6, 6, 58, 64) 0           dropout_38[0][0]                 \n",
      "__________________________________________________________________________________________________\n",
      "conv3d_80 (Conv3D)              (None, 6, 6, 58, 64) 4160        max_pooling3d_28[0][0]           \n",
      "__________________________________________________________________________________________________\n",
      "conv3d_82 (Conv3D)              (None, 6, 6, 58, 64) 4160        max_pooling3d_28[0][0]           \n",
      "__________________________________________________________________________________________________\n",
      "max_pooling3d_29 (MaxPooling3D) (None, 6, 6, 58, 64) 0           max_pooling3d_28[0][0]           \n",
      "__________________________________________________________________________________________________\n",
      "conv3d_81 (Conv3D)              (None, 6, 6, 58, 64) 110656      conv3d_80[0][0]                  \n",
      "__________________________________________________________________________________________________\n",
      "conv3d_83 (Conv3D)              (None, 6, 6, 58, 64) 512064      conv3d_82[0][0]                  \n",
      "__________________________________________________________________________________________________\n",
      "conv3d_84 (Conv3D)              (None, 6, 6, 58, 64) 4160        max_pooling3d_29[0][0]           \n",
      "__________________________________________________________________________________________________\n",
      "concatenate_15 (Concatenate)    (None, 6, 6, 174, 64 0           conv3d_81[0][0]                  \n",
      "                                                                 conv3d_83[0][0]                  \n",
      "                                                                 conv3d_84[0][0]                  \n",
      "__________________________________________________________________________________________________\n",
      "dropout_39 (Dropout)            (None, 6, 6, 174, 64 0           concatenate_15[0][0]             \n",
      "__________________________________________________________________________________________________\n",
      "conv3d_85 (Conv3D)              (None, 6, 6, 174, 64 4160        dropout_39[0][0]                 \n",
      "__________________________________________________________________________________________________\n",
      "conv3d_87 (Conv3D)              (None, 6, 6, 174, 64 4160        dropout_39[0][0]                 \n",
      "__________________________________________________________________________________________________\n",
      "max_pooling3d_30 (MaxPooling3D) (None, 6, 6, 174, 64 0           dropout_39[0][0]                 \n",
      "__________________________________________________________________________________________________\n",
      "conv3d_86 (Conv3D)              (None, 6, 6, 174, 64 110656      conv3d_85[0][0]                  \n",
      "__________________________________________________________________________________________________\n",
      "conv3d_88 (Conv3D)              (None, 6, 6, 174, 64 512064      conv3d_87[0][0]                  \n",
      "__________________________________________________________________________________________________\n",
      "conv3d_89 (Conv3D)              (None, 6, 6, 174, 64 4160        max_pooling3d_30[0][0]           \n",
      "__________________________________________________________________________________________________\n",
      "concatenate_16 (Concatenate)    (None, 6, 6, 522, 64 0           conv3d_86[0][0]                  \n",
      "                                                                 conv3d_88[0][0]                  \n",
      "                                                                 conv3d_89[0][0]                  \n",
      "__________________________________________________________________________________________________\n",
      "dropout_40 (Dropout)            (None, 6, 6, 522, 64 0           concatenate_16[0][0]             \n",
      "__________________________________________________________________________________________________\n",
      "average_pooling3d_3 (AveragePoo (None, 3, 3, 261, 64 0           dropout_40[0][0]                 \n",
      "__________________________________________________________________________________________________\n",
      "flatten_8 (Flatten)             (None, 150336)       0           average_pooling3d_3[0][0]        \n",
      "__________________________________________________________________________________________________\n",
      "dropout_43 (Dropout)            (None, 150336)       0           flatten_8[0][0]                  \n",
      "__________________________________________________________________________________________________\n",
      "dense_13 (Dense)                (None, 6)            902022      dropout_43[0][0]                 \n",
      "==================================================================================================\n",
      "Total params: 3,475,366\n",
      "Trainable params: 3,475,366\n",
      "Non-trainable params: 0\n",
      "__________________________________________________________________________________________________\n"
     ]
    }
   ],
   "source": [
    "googlenet = makegooglenet()\n",
    "googlenet.summary()"
   ]
  },
  {
   "cell_type": "code",
   "execution_count": 52,
   "metadata": {},
   "outputs": [],
   "source": [
    "model_checkpoint = ModelCheckpoint('weights3d_malignancy_googlenet.hdf5', monitor='loss', save_best_only=True)\n"
   ]
  },
  {
   "cell_type": "code",
   "execution_count": 53,
   "metadata": {},
   "outputs": [],
   "source": [
    "googlenet.load_weights('weights3d_malignancy_googlenet.hdf5')"
   ]
  },
  {
   "cell_type": "code",
   "execution_count": null,
   "metadata": {
    "scrolled": true
   },
   "outputs": [
    {
     "name": "stdout",
     "output_type": "stream",
     "text": [
      "Train on 2037 samples, validate on 227 samples\n",
      "Epoch 1/5\n",
      "2037/2037 [==============================] - 107s 53ms/step - loss: 0.9185 - acc: 0.6038 - val_loss: 1.4183 - val_acc: 0.2907\n",
      "Epoch 2/5\n",
      " 940/2037 [============>.................] - ETA: 55s - loss: 0.8594 - acc: 0.6298"
     ]
    }
   ],
   "source": [
    "history= googlenet.fit(xtrain, ytrain,\n",
    "          batch_size=20,\n",
    "          epochs=5,\n",
    "          verbose=1,\n",
    "          validation_split=0.1,\n",
    "          callbacks=[model_checkpoint])"
   ]
  },
  {
   "cell_type": "code",
   "execution_count": 27,
   "metadata": {},
   "outputs": [
    {
     "data": {
      "text/plain": [
       "array([[  0,   0, 221,   0,   0,   0],\n",
       "       [  0,   0, 322,   0,   0,   0],\n",
       "       [  0,   0, 843,   0,   0,   0],\n",
       "       [  0,   0, 532,   0,   0,   0],\n",
       "       [  0,   0, 345,   0,   0,   0],\n",
       "       [  0,   0,   1,   0,   0,   0]])"
      ]
     },
     "execution_count": 27,
     "metadata": {},
     "output_type": "execute_result"
    }
   ],
   "source": [
    "from sklearn.metrics import confusion_matrix\n",
    "predicted = googlenet.predict(xtrain[:])\n",
    "pre = np.argmax(predicted,axis=1)\n",
    "tru = np.argmax(ytrain[:],axis=1)\n",
    "confusion_matrix(tru, pre)"
   ]
  },
  {
   "cell_type": "code",
   "execution_count": 17,
   "metadata": {},
   "outputs": [
    {
     "name": "stdout",
     "output_type": "stream",
     "text": [
      "dict_keys(['val_loss', 'val_acc', 'loss', 'acc'])\n"
     ]
    },
    {
     "data": {
      "image/png": "[encoded data removed]",
      "text/plain": [
       "<matplotlib.figure.Figure at 0x7f0c7447dc88>"
      ]
     },
     "metadata": {},
     "output_type": "display_data"
    },
    {
     "data": {
      "image/png": "[encoded data removed]",
      "text/plain": [
       "<matplotlib.figure.Figure at 0x7f0c44369dd8>"
      ]
     },
     "metadata": {},
     "output_type": "display_data"
    }
   ],
   "source": [
    "plotmymodel(history)"
   ]
  },
  {
   "cell_type": "code",
   "execution_count": null,
   "metadata": {},
   "outputs": [],
   "source": []
  },
  {
   "cell_type": "code",
   "execution_count": null,
   "metadata": {},
   "outputs": [],
   "source": []
  },
  {
   "cell_type": "code",
   "execution_count": 22,
   "metadata": {},
   "outputs": [],
   "source": [
    "#Vanilla3d\n",
    "def makevanilla():\n",
    "    x    = Input(shape=(64,64,64,1))\n",
    "    conv0= Conv3D(32,kernel_size=(3,3,3),padding=\"same\",activation='relu')(x)\n",
    "    conv0= Dropout(0.2)(conv0)\n",
    "    avg1 = AveragePooling3D(pool_size=(2,1,1))(conv0)\n",
    "    conv1= Conv3D(32,kernel_size=(3,3,3),padding=\"same\",activation='relu')(avg1)\n",
    "    conv1= Dropout(0.2)(conv1)\n",
    "    max1 = MaxPooling3D(pool_size=(2,2,2))(conv1)\n",
    "    conv2= Conv3D(64,kernel_size=(3,3,3),padding=\"same\",activation='relu')(max1)\n",
    "    conv2= Dropout(0.2)(conv2)\n",
    "    max2 = MaxPooling3D(pool_size=(2,2,2))(conv2)\n",
    "    conv3= Conv3D(128,kernel_size=(3,3,3),padding=\"same\",activation='relu')(max2)\n",
    "    conv3= Dropout(0.2)(conv3)\n",
    "    max3 = MaxPooling3D(pool_size=(2,2,2))(conv3)\n",
    "    conv4= Conv3D(256,kernel_size=(3,3,3),padding=\"same\",activation='relu')(max3)\n",
    "    conv4= Dropout(0.2)(conv4)\n",
    "    max4 = MaxPooling3D(pool_size=(2,2,2))(conv4)\n",
    "    conv5= Conv3D(256,kernel_size=(3,3,3),padding=\"same\",activation='relu')(max4)\n",
    "    conv5= Dropout(0.2)(conv5)\n",
    "    max5 = MaxPooling3D(pool_size=(2,2,2))(conv5)\n",
    "    conv6= Conv3D(512,kernel_size=(3,3,3),padding=\"same\",activation='relu')(max5)\n",
    "\n",
    "    flat = Flatten()(conv6)\n",
    "    flat= Dropout(0.2)(flat)\n",
    "    dense= Dense(num_classes,activation=\"softmax\")(flat)\n",
    "\n",
    "    vanillamodel = Model(inputs=x, outputs=dense)\n",
    "    \n",
    "    vanillamodel.compile(loss=k.losses.categorical_crossentropy,\n",
    "              optimizer=k.optimizers.Adam(lr=0.00001),\n",
    "              metrics=['accuracy'])\n",
    "\n",
    "    return vanillamodel"
   ]
  },
  {
   "cell_type": "code",
   "execution_count": 23,
   "metadata": {},
   "outputs": [
    {
     "name": "stdout",
     "output_type": "stream",
     "text": [
      "_________________________________________________________________\n",
      "Layer (type)                 Output Shape              Param #   \n",
      "=================================================================\n",
      "input_3 (InputLayer)         (None, 64, 64, 64, 1)     0         \n",
      "_________________________________________________________________\n",
      "conv3d_65 (Conv3D)           (None, 64, 64, 64, 32)    896       \n",
      "_________________________________________________________________\n",
      "dropout_19 (Dropout)         (None, 64, 64, 64, 32)    0         \n",
      "_________________________________________________________________\n",
      "average_pooling3d_3 (Average (None, 32, 64, 64, 32)    0         \n",
      "_________________________________________________________________\n",
      "conv3d_66 (Conv3D)           (None, 32, 64, 64, 32)    27680     \n",
      "_________________________________________________________________\n",
      "dropout_20 (Dropout)         (None, 32, 64, 64, 32)    0         \n",
      "_________________________________________________________________\n",
      "max_pooling3d_21 (MaxPooling (None, 16, 32, 32, 32)    0         \n",
      "_________________________________________________________________\n",
      "conv3d_67 (Conv3D)           (None, 16, 32, 32, 64)    55360     \n",
      "_________________________________________________________________\n",
      "dropout_21 (Dropout)         (None, 16, 32, 32, 64)    0         \n",
      "_________________________________________________________________\n",
      "max_pooling3d_22 (MaxPooling (None, 8, 16, 16, 64)     0         \n",
      "_________________________________________________________________\n",
      "conv3d_68 (Conv3D)           (None, 8, 16, 16, 128)    221312    \n",
      "_________________________________________________________________\n",
      "dropout_22 (Dropout)         (None, 8, 16, 16, 128)    0         \n",
      "_________________________________________________________________\n",
      "max_pooling3d_23 (MaxPooling (None, 4, 8, 8, 128)      0         \n",
      "_________________________________________________________________\n",
      "conv3d_69 (Conv3D)           (None, 4, 8, 8, 256)      884992    \n",
      "_________________________________________________________________\n",
      "dropout_23 (Dropout)         (None, 4, 8, 8, 256)      0         \n",
      "_________________________________________________________________\n",
      "max_pooling3d_24 (MaxPooling (None, 2, 4, 4, 256)      0         \n",
      "_________________________________________________________________\n",
      "conv3d_70 (Conv3D)           (None, 2, 4, 4, 256)      1769728   \n",
      "_________________________________________________________________\n",
      "dropout_24 (Dropout)         (None, 2, 4, 4, 256)      0         \n",
      "_________________________________________________________________\n",
      "max_pooling3d_25 (MaxPooling (None, 1, 2, 2, 256)      0         \n",
      "_________________________________________________________________\n",
      "conv3d_71 (Conv3D)           (None, 1, 2, 2, 512)      3539456   \n",
      "_________________________________________________________________\n",
      "flatten_3 (Flatten)          (None, 2048)              0         \n",
      "_________________________________________________________________\n",
      "dropout_25 (Dropout)         (None, 2048)              0         \n",
      "_________________________________________________________________\n",
      "dense_3 (Dense)              (None, 6)                 12294     \n",
      "=================================================================\n",
      "Total params: 6,511,718\n",
      "Trainable params: 6,511,718\n",
      "Non-trainable params: 0\n",
      "_________________________________________________________________\n"
     ]
    }
   ],
   "source": [
    "vanilla3d = makevanilla()\n",
    "vanilla3d.summary()"
   ]
  },
  {
   "cell_type": "code",
   "execution_count": 24,
   "metadata": {},
   "outputs": [],
   "source": [
    "model_checkpoint = ModelCheckpoint('weights3d_maliganancy_vanila.hdf5', monitor='loss', save_best_only=True)"
   ]
  },
  {
   "cell_type": "code",
   "execution_count": 25,
   "metadata": {},
   "outputs": [
    {
     "name": "stdout",
     "output_type": "stream",
     "text": [
      "Train on 2037 samples, validate on 227 samples\n",
      "Epoch 1/10\n",
      "2037/2037 [==============================] - 96s 47ms/step - loss: 1.5835 - acc: 0.3201 - val_loss: 1.5631 - val_acc: 0.3128\n",
      "Epoch 2/10\n",
      "2037/2037 [==============================] - 92s 45ms/step - loss: 1.5152 - acc: 0.3780 - val_loss: 1.5208 - val_acc: 0.3128\n",
      "Epoch 3/10\n",
      "2037/2037 [==============================] - 92s 45ms/step - loss: 1.5063 - acc: 0.3790 - val_loss: 1.5200 - val_acc: 0.3128\n",
      "Epoch 4/10\n",
      "2037/2037 [==============================] - 92s 45ms/step - loss: 1.4921 - acc: 0.3760 - val_loss: 1.4512 - val_acc: 0.3128\n",
      "Epoch 5/10\n",
      "2037/2037 [==============================] - 92s 45ms/step - loss: 1.4465 - acc: 0.3913 - val_loss: 1.4795 - val_acc: 0.3128\n",
      "Epoch 6/10\n",
      "2037/2037 [==============================] - 92s 45ms/step - loss: 1.4054 - acc: 0.4011 - val_loss: 1.4101 - val_acc: 0.3216\n",
      "Epoch 7/10\n",
      "2037/2037 [==============================] - 92s 45ms/step - loss: 1.3521 - acc: 0.4119 - val_loss: 1.4093 - val_acc: 0.3172\n",
      "Epoch 8/10\n",
      "2037/2037 [==============================] - 92s 45ms/step - loss: 1.2993 - acc: 0.4566 - val_loss: 1.4364 - val_acc: 0.3436\n",
      "Epoch 9/10\n",
      " 140/2037 [=>............................] - ETA: 1:23 - loss: 1.2097 - acc: 0.4929"
     ]
    },
    {
     "ename": "KeyboardInterrupt",
     "evalue": "",
     "output_type": "error",
     "traceback": [
      "\u001b[0;31m---------------------------------------------------------------------------\u001b[0m",
      "\u001b[0;31mKeyboardInterrupt\u001b[0m                         Traceback (most recent call last)",
      "\u001b[0;32m<ipython-input-25-919c14c220ae>\u001b[0m in \u001b[0;36m<module>\u001b[0;34m()\u001b[0m\n\u001b[1;32m      4\u001b[0m           \u001b[0mverbose\u001b[0m\u001b[0;34m=\u001b[0m\u001b[0;36m1\u001b[0m\u001b[0;34m,\u001b[0m\u001b[0;34m\u001b[0m\u001b[0m\n\u001b[1;32m      5\u001b[0m           \u001b[0mvalidation_split\u001b[0m\u001b[0;34m=\u001b[0m\u001b[0;36m0.1\u001b[0m\u001b[0;34m,\u001b[0m\u001b[0;34m\u001b[0m\u001b[0m\n\u001b[0;32m----> 6\u001b[0;31m           callbacks=[model_checkpoint])\n\u001b[0m",
      "\u001b[0;32m/usr/local/lib/python3.6/site-packages/keras/engine/training.py\u001b[0m in \u001b[0;36mfit\u001b[0;34m(self, x, y, batch_size, epochs, verbose, callbacks, validation_split, validation_data, shuffle, class_weight, sample_weight, initial_epoch, steps_per_epoch, validation_steps, **kwargs)\u001b[0m\n\u001b[1;32m   1703\u001b[0m                               \u001b[0minitial_epoch\u001b[0m\u001b[0;34m=\u001b[0m\u001b[0minitial_epoch\u001b[0m\u001b[0;34m,\u001b[0m\u001b[0;34m\u001b[0m\u001b[0m\n\u001b[1;32m   1704\u001b[0m                               \u001b[0msteps_per_epoch\u001b[0m\u001b[0;34m=\u001b[0m\u001b[0msteps_per_epoch\u001b[0m\u001b[0;34m,\u001b[0m\u001b[0;34m\u001b[0m\u001b[0m\n\u001b[0;32m-> 1705\u001b[0;31m                               validation_steps=validation_steps)\n\u001b[0m\u001b[1;32m   1706\u001b[0m \u001b[0;34m\u001b[0m\u001b[0m\n\u001b[1;32m   1707\u001b[0m     def evaluate(self, x=None, y=None,\n",
      "\u001b[0;32m/usr/local/lib/python3.6/site-packages/keras/engine/training.py\u001b[0m in \u001b[0;36m_fit_loop\u001b[0;34m(self, f, ins, out_labels, batch_size, epochs, verbose, callbacks, val_f, val_ins, shuffle, callback_metrics, initial_epoch, steps_per_epoch, validation_steps)\u001b[0m\n\u001b[1;32m   1233\u001b[0m                         \u001b[0mins_batch\u001b[0m\u001b[0;34m[\u001b[0m\u001b[0mi\u001b[0m\u001b[0;34m]\u001b[0m \u001b[0;34m=\u001b[0m \u001b[0mins_batch\u001b[0m\u001b[0;34m[\u001b[0m\u001b[0mi\u001b[0m\u001b[0;34m]\u001b[0m\u001b[0;34m.\u001b[0m\u001b[0mtoarray\u001b[0m\u001b[0;34m(\u001b[0m\u001b[0;34m)\u001b[0m\u001b[0;34m\u001b[0m\u001b[0m\n\u001b[1;32m   1234\u001b[0m \u001b[0;34m\u001b[0m\u001b[0m\n\u001b[0;32m-> 1235\u001b[0;31m                     \u001b[0mouts\u001b[0m \u001b[0;34m=\u001b[0m \u001b[0mf\u001b[0m\u001b[0;34m(\u001b[0m\u001b[0mins_batch\u001b[0m\u001b[0;34m)\u001b[0m\u001b[0;34m\u001b[0m\u001b[0m\n\u001b[0m\u001b[1;32m   1236\u001b[0m                     \u001b[0;32mif\u001b[0m \u001b[0;32mnot\u001b[0m \u001b[0misinstance\u001b[0m\u001b[0;34m(\u001b[0m\u001b[0mouts\u001b[0m\u001b[0;34m,\u001b[0m \u001b[0mlist\u001b[0m\u001b[0;34m)\u001b[0m\u001b[0;34m:\u001b[0m\u001b[0;34m\u001b[0m\u001b[0m\n\u001b[1;32m   1237\u001b[0m                         \u001b[0mouts\u001b[0m \u001b[0;34m=\u001b[0m \u001b[0;34m[\u001b[0m\u001b[0mouts\u001b[0m\u001b[0;34m]\u001b[0m\u001b[0;34m\u001b[0m\u001b[0m\n",
      "\u001b[0;32m/usr/local/lib/python3.6/site-packages/keras/backend/tensorflow_backend.py\u001b[0m in \u001b[0;36m__call__\u001b[0;34m(self, inputs)\u001b[0m\n\u001b[1;32m   2476\u001b[0m         \u001b[0msession\u001b[0m \u001b[0;34m=\u001b[0m \u001b[0mget_session\u001b[0m\u001b[0;34m(\u001b[0m\u001b[0;34m)\u001b[0m\u001b[0;34m\u001b[0m\u001b[0m\n\u001b[1;32m   2477\u001b[0m         updated = session.run(fetches=fetches, feed_dict=feed_dict,\n\u001b[0;32m-> 2478\u001b[0;31m                               **self.session_kwargs)\n\u001b[0m\u001b[1;32m   2479\u001b[0m         \u001b[0;32mreturn\u001b[0m \u001b[0mupdated\u001b[0m\u001b[0;34m[\u001b[0m\u001b[0;34m:\u001b[0m\u001b[0mlen\u001b[0m\u001b[0;34m(\u001b[0m\u001b[0mself\u001b[0m\u001b[0;34m.\u001b[0m\u001b[0moutputs\u001b[0m\u001b[0;34m)\u001b[0m\u001b[0;34m]\u001b[0m\u001b[0;34m\u001b[0m\u001b[0m\n\u001b[1;32m   2480\u001b[0m \u001b[0;34m\u001b[0m\u001b[0m\n",
      "\u001b[0;32m/usr/local/lib/python3.6/site-packages/tensorflow/python/client/session.py\u001b[0m in \u001b[0;36mrun\u001b[0;34m(self, fetches, feed_dict, options, run_metadata)\u001b[0m\n\u001b[1;32m    887\u001b[0m     \u001b[0;32mtry\u001b[0m\u001b[0;34m:\u001b[0m\u001b[0;34m\u001b[0m\u001b[0m\n\u001b[1;32m    888\u001b[0m       result = self._run(None, fetches, feed_dict, options_ptr,\n\u001b[0;32m--> 889\u001b[0;31m                          run_metadata_ptr)\n\u001b[0m\u001b[1;32m    890\u001b[0m       \u001b[0;32mif\u001b[0m \u001b[0mrun_metadata\u001b[0m\u001b[0;34m:\u001b[0m\u001b[0;34m\u001b[0m\u001b[0m\n\u001b[1;32m    891\u001b[0m         \u001b[0mproto_data\u001b[0m \u001b[0;34m=\u001b[0m \u001b[0mtf_session\u001b[0m\u001b[0;34m.\u001b[0m\u001b[0mTF_GetBuffer\u001b[0m\u001b[0;34m(\u001b[0m\u001b[0mrun_metadata_ptr\u001b[0m\u001b[0;34m)\u001b[0m\u001b[0;34m\u001b[0m\u001b[0m\n",
      "\u001b[0;32m/usr/local/lib/python3.6/site-packages/tensorflow/python/client/session.py\u001b[0m in \u001b[0;36m_run\u001b[0;34m(self, handle, fetches, feed_dict, options, run_metadata)\u001b[0m\n\u001b[1;32m   1118\u001b[0m     \u001b[0;32mif\u001b[0m \u001b[0mfinal_fetches\u001b[0m \u001b[0;32mor\u001b[0m \u001b[0mfinal_targets\u001b[0m \u001b[0;32mor\u001b[0m \u001b[0;34m(\u001b[0m\u001b[0mhandle\u001b[0m \u001b[0;32mand\u001b[0m \u001b[0mfeed_dict_tensor\u001b[0m\u001b[0;34m)\u001b[0m\u001b[0;34m:\u001b[0m\u001b[0;34m\u001b[0m\u001b[0m\n\u001b[1;32m   1119\u001b[0m       results = self._do_run(handle, final_targets, final_fetches,\n\u001b[0;32m-> 1120\u001b[0;31m                              feed_dict_tensor, options, run_metadata)\n\u001b[0m\u001b[1;32m   1121\u001b[0m     \u001b[0;32melse\u001b[0m\u001b[0;34m:\u001b[0m\u001b[0;34m\u001b[0m\u001b[0m\n\u001b[1;32m   1122\u001b[0m       \u001b[0mresults\u001b[0m \u001b[0;34m=\u001b[0m \u001b[0;34m[\u001b[0m\u001b[0;34m]\u001b[0m\u001b[0;34m\u001b[0m\u001b[0m\n",
      "\u001b[0;32m/usr/local/lib/python3.6/site-packages/tensorflow/python/client/session.py\u001b[0m in \u001b[0;36m_do_run\u001b[0;34m(self, handle, target_list, fetch_list, feed_dict, options, run_metadata)\u001b[0m\n\u001b[1;32m   1315\u001b[0m     \u001b[0;32mif\u001b[0m \u001b[0mhandle\u001b[0m \u001b[0;32mis\u001b[0m \u001b[0;32mNone\u001b[0m\u001b[0;34m:\u001b[0m\u001b[0;34m\u001b[0m\u001b[0m\n\u001b[1;32m   1316\u001b[0m       return self._do_call(_run_fn, self._session, feeds, fetches, targets,\n\u001b[0;32m-> 1317\u001b[0;31m                            options, run_metadata)\n\u001b[0m\u001b[1;32m   1318\u001b[0m     \u001b[0;32melse\u001b[0m\u001b[0;34m:\u001b[0m\u001b[0;34m\u001b[0m\u001b[0m\n\u001b[1;32m   1319\u001b[0m       \u001b[0;32mreturn\u001b[0m \u001b[0mself\u001b[0m\u001b[0;34m.\u001b[0m\u001b[0m_do_call\u001b[0m\u001b[0;34m(\u001b[0m\u001b[0m_prun_fn\u001b[0m\u001b[0;34m,\u001b[0m \u001b[0mself\u001b[0m\u001b[0;34m.\u001b[0m\u001b[0m_session\u001b[0m\u001b[0;34m,\u001b[0m \u001b[0mhandle\u001b[0m\u001b[0;34m,\u001b[0m \u001b[0mfeeds\u001b[0m\u001b[0;34m,\u001b[0m \u001b[0mfetches\u001b[0m\u001b[0;34m)\u001b[0m\u001b[0;34m\u001b[0m\u001b[0m\n",
      "\u001b[0;32m/usr/local/lib/python3.6/site-packages/tensorflow/python/client/session.py\u001b[0m in \u001b[0;36m_do_call\u001b[0;34m(self, fn, *args)\u001b[0m\n\u001b[1;32m   1321\u001b[0m   \u001b[0;32mdef\u001b[0m \u001b[0m_do_call\u001b[0m\u001b[0;34m(\u001b[0m\u001b[0mself\u001b[0m\u001b[0;34m,\u001b[0m \u001b[0mfn\u001b[0m\u001b[0;34m,\u001b[0m \u001b[0;34m*\u001b[0m\u001b[0margs\u001b[0m\u001b[0;34m)\u001b[0m\u001b[0;34m:\u001b[0m\u001b[0;34m\u001b[0m\u001b[0m\n\u001b[1;32m   1322\u001b[0m     \u001b[0;32mtry\u001b[0m\u001b[0;34m:\u001b[0m\u001b[0;34m\u001b[0m\u001b[0m\n\u001b[0;32m-> 1323\u001b[0;31m       \u001b[0;32mreturn\u001b[0m \u001b[0mfn\u001b[0m\u001b[0;34m(\u001b[0m\u001b[0;34m*\u001b[0m\u001b[0margs\u001b[0m\u001b[0;34m)\u001b[0m\u001b[0;34m\u001b[0m\u001b[0m\n\u001b[0m\u001b[1;32m   1324\u001b[0m     \u001b[0;32mexcept\u001b[0m \u001b[0merrors\u001b[0m\u001b[0;34m.\u001b[0m\u001b[0mOpError\u001b[0m \u001b[0;32mas\u001b[0m \u001b[0me\u001b[0m\u001b[0;34m:\u001b[0m\u001b[0;34m\u001b[0m\u001b[0m\n\u001b[1;32m   1325\u001b[0m       \u001b[0mmessage\u001b[0m \u001b[0;34m=\u001b[0m \u001b[0mcompat\u001b[0m\u001b[0;34m.\u001b[0m\u001b[0mas_text\u001b[0m\u001b[0;34m(\u001b[0m\u001b[0me\u001b[0m\u001b[0;34m.\u001b[0m\u001b[0mmessage\u001b[0m\u001b[0;34m)\u001b[0m\u001b[0;34m\u001b[0m\u001b[0m\n",
      "\u001b[0;32m/usr/local/lib/python3.6/site-packages/tensorflow/python/client/session.py\u001b[0m in \u001b[0;36m_run_fn\u001b[0;34m(session, feed_dict, fetch_list, target_list, options, run_metadata)\u001b[0m\n\u001b[1;32m   1300\u001b[0m           return tf_session.TF_Run(session, options,\n\u001b[1;32m   1301\u001b[0m                                    \u001b[0mfeed_dict\u001b[0m\u001b[0;34m,\u001b[0m \u001b[0mfetch_list\u001b[0m\u001b[0;34m,\u001b[0m \u001b[0mtarget_list\u001b[0m\u001b[0;34m,\u001b[0m\u001b[0;34m\u001b[0m\u001b[0m\n\u001b[0;32m-> 1302\u001b[0;31m                                    status, run_metadata)\n\u001b[0m\u001b[1;32m   1303\u001b[0m \u001b[0;34m\u001b[0m\u001b[0m\n\u001b[1;32m   1304\u001b[0m     \u001b[0;32mdef\u001b[0m \u001b[0m_prun_fn\u001b[0m\u001b[0;34m(\u001b[0m\u001b[0msession\u001b[0m\u001b[0;34m,\u001b[0m \u001b[0mhandle\u001b[0m\u001b[0;34m,\u001b[0m \u001b[0mfeed_dict\u001b[0m\u001b[0;34m,\u001b[0m \u001b[0mfetch_list\u001b[0m\u001b[0;34m)\u001b[0m\u001b[0;34m:\u001b[0m\u001b[0;34m\u001b[0m\u001b[0m\n",
      "\u001b[0;31mKeyboardInterrupt\u001b[0m: "
     ]
    }
   ],
   "source": [
    "vanilla3d.fit(xtrain, ytrain,\n",
    "          batch_size=20,\n",
    "          epochs=10,\n",
    "          verbose=1,\n",
    "          validation_split=0.1,\n",
    "          callbacks=[model_checkpoint])"
   ]
  },
  {
   "cell_type": "code",
   "execution_count": null,
   "metadata": {},
   "outputs": [],
   "source": []
  }
 ],
 "metadata": {
  "kernelspec": {
   "display_name": "Python 3",
   "language": "python",
   "name": "python3"
  },
  "language_info": {
   "codemirror_mode": {
    "name": "ipython",
    "version": 3
   },
   "file_extension": ".py",
   "mimetype": "text/x-python",
   "name": "python",
   "nbconvert_exporter": "python",
   "pygments_lexer": "ipython3",
   "version": "3.6.0"
  }
 },
 "nbformat": 4,
 "nbformat_minor": 2
}
