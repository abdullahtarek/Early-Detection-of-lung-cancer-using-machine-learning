{
 "cells": [
  {
   "cell_type": "code",
   "execution_count": 1,
   "metadata": {},
   "outputs": [
    {
     "name": "stderr",
     "output_type": "stream",
     "text": [
      "Using TensorFlow backend.\n",
      "/usr/local/lib/python3.6/importlib/_bootstrap.py:205: RuntimeWarning: compiletime version 3.5 of module 'tensorflow.python.framework.fast_tensor_util' does not match runtime version 3.6\n",
      "  return f(*args, **kwds)\n"
     ]
    }
   ],
   "source": [
    "import SimpleITK as sitk\n",
    "import numpy as np\n",
    "import csv\n",
    "import os\n",
    "from PIL import Image\n",
    "from glob import glob\n",
    "import matplotlib.pyplot as plt\n",
    "from tqdm import tqdm\n",
    "from random import shuffle\n",
    "import pandas as pd\n",
    "\n",
    "import keras as k\n",
    "from keras.models import Sequential ,Model\n",
    "from keras.layers import Conv2D, MaxPooling2D,AveragePooling3D,AveragePooling2D,MaxPooling3D,Conv3D\n",
    "from keras.layers import Activation, Dropout, Flatten, Dense ,Input\n",
    "from keras.callbacks import ModelCheckpoint, LearningRateScheduler\n",
    "from keras.preprocessing import image\n",
    "from keras import applications"
   ]
  },
  {
   "cell_type": "code",
   "execution_count": 3,
   "metadata": {},
   "outputs": [],
   "source": [
    "def load_itk_image(filename):\n",
    "    itkimage = sitk.ReadImage(filename)\n",
    "    numpyImage = sitk.GetArrayFromImage(itkimage)\n",
    "    numpyOrigin = np.array(list(reversed(itkimage.GetOrigin())))\n",
    "    numpySpacing = np.array(list(reversed(itkimage.GetSpacing())))\n",
    "    return numpyImage, numpyOrigin, numpySpacing\n",
    "\n",
    "def readCSV(filename):\n",
    "    lines = []\n",
    "    with open(filename, \"rb\") as f:\n",
    "        csvreader = csv.reader(f)\n",
    "        for line in csvreader:\n",
    "            lines.append(line)\n",
    "    return lines\n",
    "\n",
    "def worldToVoxelCoord(worldCoord, origin, spacing):\n",
    "    stretchedVoxelCoord = np.absolute(worldCoord - origin)\n",
    "    voxelCoord = stretchedVoxelCoord / spacing\n",
    "    return voxelCoord\n",
    "\n",
    "def normalizePlanes(npzarray):\n",
    "    maxHU = 400.\n",
    "    minHU = -1000.\n",
    "    npzarray = (npzarray - minHU) / (maxHU - minHU)\n",
    "    npzarray[npzarray>1] = 1.\n",
    "    npzarray[npzarray<0] = 0.\n",
    "    return npzarray\n"
   ]
  },
  {
   "cell_type": "code",
   "execution_count": 13,
   "metadata": {},
   "outputs": [],
   "source": [
    "def plotmymodel(history):\n",
    "    # list all data in history\n",
    "    print(history.history.keys())\n",
    "    # summarize history for accuracy\n",
    "    plt.plot(history.history['acc'])\n",
    "    plt.plot(history.history['val_acc'])\n",
    "    plt.title('model accuracy')\n",
    "    plt.ylabel('accuracy')\n",
    "    plt.xlabel('epoch')\n",
    "    plt.legend(['train', 'test'], loc='upper left')\n",
    "    plt.show()\n",
    "    # summarize history for loss\n",
    "    plt.plot(history.history['loss'])\n",
    "    plt.plot(history.history['val_loss'])\n",
    "    plt.title('model loss')\n",
    "    plt.ylabel('loss')\n",
    "    plt.xlabel('epoch')\n",
    "    plt.legend(['train', 'test'], loc='upper left')\n",
    "    plt.show()"
   ]
  },
  {
   "cell_type": "code",
   "execution_count": 2,
   "metadata": {},
   "outputs": [],
   "source": [
    "cand_path = '../CSVFILES/candidates.csv'\n",
    "outdir_nodule = 'output3d/nodule/'\n",
    "outdir_non_nodule = 'output3d/non_nodule/'\n",
    "cands = pd.read_csv(cand_path , header=0)"
   ]
  },
  {
   "cell_type": "code",
   "execution_count": 7,
   "metadata": {},
   "outputs": [
    {
     "name": "stderr",
     "output_type": "stream",
     "text": [
      " 10%|▉         | 52370/551065 [00:09<01:33, 5329.29it/s]/home/ubuntu/.local/lib/python3.6/site-packages/tqdm/_monitor.py:89: TqdmSynchronisationWarning: Set changed size during iteration (see https://github.com/tqdm/tqdm/issues/481)\n",
      "  TqdmSynchronisationWarning)\n",
      "100%|██████████| 551065/551065 [01:53<00:00, 4869.56it/s]"
     ]
    },
    {
     "name": "stdout",
     "output_type": "stream",
     "text": [
      "574\n"
     ]
    },
    {
     "name": "stderr",
     "output_type": "stream",
     "text": [
      "\n"
     ]
    }
   ],
   "source": [
    "count1=0\n",
    "for cand in tqdm(cands.values):\n",
    "    path = glob('../subset*/'+cand[0]+\".mhd\")\n",
    "    if len(path)>0:\n",
    "        if cand[4]==1:\n",
    "            numpyImage, numpyOrigin, numpySpacing = load_itk_image(path[0])\n",
    "            worldCoord = np.asarray([float(cand[3]),float(cand[2]),float(cand[1])])\n",
    "            voxelCoord = worldToVoxelCoord(worldCoord, numpyOrigin, numpySpacing)\n",
    "            voxelWidth = 64\n",
    "            patch = numpyImage[int(voxelCoord[0]-voxelWidth/2):int(voxelCoord[0]+voxelWidth/2),int(voxelCoord[1]-voxelWidth/2):int(voxelCoord[1]+voxelWidth/2),int(voxelCoord[2]-voxelWidth/2):int(voxelCoord[2]+voxelWidth/2)]\n",
    "            patch = normalizePlanes(patch)\n",
    "\n",
    "            desired= cand[4]\n",
    "            \n",
    "            if(desired==0):\n",
    "                yy = [0,1]\n",
    "            else:\n",
    "                yy= [1,0]\n",
    "\n",
    "            np.save(outdir_nodule+str(count1)+\"1X.npy\",patch)\n",
    "            np.save(outdir_nodule+str(count1)+\"1Y.npy\",yy)\n",
    "            \n",
    "            count1 = count1 +1\n",
    "                \n",
    "print(count1)"
   ]
  },
  {
   "cell_type": "code",
   "execution_count": 8,
   "metadata": {},
   "outputs": [],
   "source": [
    "#first 10,000 ---> 8932\n",
    "count2=0"
   ]
  },
  {
   "cell_type": "code",
   "execution_count": 9,
   "metadata": {},
   "outputs": [
    {
     "name": "stderr",
     "output_type": "stream",
     "text": [
      "  2%|▏         | 172/10000 [00:09<09:30, 17.22it/s]/home/ubuntu/.local/lib/python3.6/site-packages/tqdm/_monitor.py:89: TqdmSynchronisationWarning: Set changed size during iteration (see https://github.com/tqdm/tqdm/issues/481)\n",
      "  TqdmSynchronisationWarning)\n",
      "100%|██████████| 10000/10000 [07:03<00:00, 23.61it/s]"
     ]
    },
    {
     "name": "stdout",
     "output_type": "stream",
     "text": [
      "4867\n"
     ]
    },
    {
     "name": "stderr",
     "output_type": "stream",
     "text": [
      "\n"
     ]
    }
   ],
   "source": [
    "for cand in tqdm(cands.values[10000:20000]):\n",
    "    path = glob('../subset*/'+cand[0]+\".mhd\")\n",
    "    if len(path)>0:\n",
    "        if cand[4]==0:\n",
    "            numpyImage, numpyOrigin, numpySpacing = load_itk_image(path[0])\n",
    "            worldCoord = np.asarray([float(cand[3]),float(cand[2]),float(cand[1])])\n",
    "            voxelCoord = worldToVoxelCoord(worldCoord, numpyOrigin, numpySpacing)\n",
    "            voxelWidth = 64\n",
    "            patch = numpyImage[int(voxelCoord[0]-voxelWidth/2):int(voxelCoord[0]+voxelWidth/2),int(voxelCoord[1]-voxelWidth/2):int(voxelCoord[1]+voxelWidth/2),int(voxelCoord[2]-voxelWidth/2):int(voxelCoord[2]+voxelWidth/2)]\n",
    "            patch = normalizePlanes(patch)\n",
    "\n",
    "            desired= cand[4]\n",
    "            \n",
    "            if(desired==0):\n",
    "                yy = [0,1]\n",
    "            else:\n",
    "                yy= [1,0]\n",
    "\n",
    "            np.save(outdir_non_nodule+str(count2)+\"0X.npy\",patch)\n",
    "            np.save(outdir_non_nodule+str(count2)+\"0Y.npy\",yy)\n",
    "            \n",
    "            count2 = count2 +1\n",
    "                \n",
    "print(count2)"
   ]
  },
  {
   "cell_type": "code",
   "execution_count": 4,
   "metadata": {},
   "outputs": [
    {
     "data": {
      "text/plain": [
       "((904, 64, 64, 64, 1), (904, 2))"
      ]
     },
     "execution_count": 4,
     "metadata": {},
     "output_type": "execute_result"
    }
   ],
   "source": [
    "xtrain , ytrain= [] ,[]\n",
    "l1 = glob(outdir_nodule+\"*X.npy\")\n",
    "l2= glob(outdir_non_nodule+\"*X.npy\")\n",
    "ll = l1[:500] + l2[:500]\n",
    "shuffle(ll)\n",
    "for x in ll:\n",
    "    y = x[:-5] +\"Y\" + x[-4:]\n",
    "    xx= np.load(x)\n",
    "    yy = np.load(y)\n",
    "    if xx.shape == (64,64,64):\n",
    "        xx = np.expand_dims(xx,axis=3)\n",
    "        xtrain.append(xx)\n",
    "        ytrain.append(yy)\n",
    "\n",
    "xtrain = np.array(xtrain)\n",
    "ytrain = np.array(ytrain)\n",
    "\n",
    "xtrain.shape , ytrain.shape"
   ]
  },
  {
   "cell_type": "code",
   "execution_count": 158,
   "metadata": {},
   "outputs": [
    {
     "data": {
      "text/plain": [
       "{0: 466, 1: 1330}"
      ]
     },
     "execution_count": 158,
     "metadata": {},
     "output_type": "execute_result"
    }
   ],
   "source": [
    "unique, counts = np.unique(np.argmax(ytrain,axis=1), return_counts=True)\n",
    "dict(zip(unique, counts))"
   ]
  },
  {
   "cell_type": "code",
   "execution_count": 5,
   "metadata": {},
   "outputs": [],
   "source": [
    "#Lnet\n",
    "model = Sequential()\n",
    "model.add(Conv2D(32, kernel_size=(5, 5), strides=(1, 1),\n",
    "                 activation='relu',\n",
    "                 input_shape=[64,64,64]))\n",
    "model.add(Dropout(0.4))\n",
    "model.add(MaxPooling2D(pool_size=(2, 2), strides=(2, 2)))\n",
    "model.add(Conv2D(64, (5, 5), activation='relu'))\n",
    "model.add(Dropout(0.4))\n",
    "model.add(MaxPooling2D(pool_size=(2, 2)))\n",
    "model.add(Flatten())\n",
    "model.add(Dropout(0.4))\n",
    "model.add(Dense(1000, activation='relu'))\n",
    "model.add(Dropout(0.4))\n",
    "model.add(Dense(2, activation='softmax'))"
   ]
  },
  {
   "cell_type": "code",
   "execution_count": 6,
   "metadata": {},
   "outputs": [],
   "source": [
    "model.compile(loss=k.losses.categorical_crossentropy,\n",
    "              optimizer=k.optimizers.SGD(lr=0.01),\n",
    "              metrics=['accuracy'])\n",
    "model_checkpoint = ModelCheckpoint('todel/weights3d_lnet.hdf5', monitor='loss', save_best_only=True)"
   ]
  },
  {
   "cell_type": "code",
   "execution_count": 7,
   "metadata": {},
   "outputs": [
    {
     "ename": "ValueError",
     "evalue": "Error when checking input: expected conv2d_1_input to have 4 dimensions, but got array with shape (904, 64, 64, 64, 1)",
     "output_type": "error",
     "traceback": [
      "\u001b[0;31m---------------------------------------------------------------------------\u001b[0m",
      "\u001b[0;31mValueError\u001b[0m                                Traceback (most recent call last)",
      "\u001b[0;32m<ipython-input-7-c58aadab3082>\u001b[0m in \u001b[0;36m<module>\u001b[0;34m()\u001b[0m\n\u001b[1;32m      5\u001b[0m           \u001b[0mverbose\u001b[0m\u001b[0;34m=\u001b[0m\u001b[0;36m1\u001b[0m\u001b[0;34m,\u001b[0m\u001b[0;34m\u001b[0m\u001b[0m\n\u001b[1;32m      6\u001b[0m           \u001b[0mvalidation_split\u001b[0m\u001b[0;34m=\u001b[0m\u001b[0;36m0.1\u001b[0m\u001b[0;34m,\u001b[0m\u001b[0;34m\u001b[0m\u001b[0m\n\u001b[0;32m----> 7\u001b[0;31m           callbacks=[model_checkpoint])\n\u001b[0m",
      "\u001b[0;32m/usr/local/lib/python3.6/site-packages/keras/models.py\u001b[0m in \u001b[0;36mfit\u001b[0;34m(self, x, y, batch_size, epochs, verbose, callbacks, validation_split, validation_data, shuffle, class_weight, sample_weight, initial_epoch, steps_per_epoch, validation_steps, **kwargs)\u001b[0m\n\u001b[1;32m    961\u001b[0m                               \u001b[0minitial_epoch\u001b[0m\u001b[0;34m=\u001b[0m\u001b[0minitial_epoch\u001b[0m\u001b[0;34m,\u001b[0m\u001b[0;34m\u001b[0m\u001b[0m\n\u001b[1;32m    962\u001b[0m                               \u001b[0msteps_per_epoch\u001b[0m\u001b[0;34m=\u001b[0m\u001b[0msteps_per_epoch\u001b[0m\u001b[0;34m,\u001b[0m\u001b[0;34m\u001b[0m\u001b[0m\n\u001b[0;32m--> 963\u001b[0;31m                               validation_steps=validation_steps)\n\u001b[0m\u001b[1;32m    964\u001b[0m \u001b[0;34m\u001b[0m\u001b[0m\n\u001b[1;32m    965\u001b[0m     def evaluate(self, x=None, y=None,\n",
      "\u001b[0;32m/usr/local/lib/python3.6/site-packages/keras/engine/training.py\u001b[0m in \u001b[0;36mfit\u001b[0;34m(self, x, y, batch_size, epochs, verbose, callbacks, validation_split, validation_data, shuffle, class_weight, sample_weight, initial_epoch, steps_per_epoch, validation_steps, **kwargs)\u001b[0m\n\u001b[1;32m   1628\u001b[0m             \u001b[0msample_weight\u001b[0m\u001b[0;34m=\u001b[0m\u001b[0msample_weight\u001b[0m\u001b[0;34m,\u001b[0m\u001b[0;34m\u001b[0m\u001b[0m\n\u001b[1;32m   1629\u001b[0m             \u001b[0mclass_weight\u001b[0m\u001b[0;34m=\u001b[0m\u001b[0mclass_weight\u001b[0m\u001b[0;34m,\u001b[0m\u001b[0;34m\u001b[0m\u001b[0m\n\u001b[0;32m-> 1630\u001b[0;31m             batch_size=batch_size)\n\u001b[0m\u001b[1;32m   1631\u001b[0m         \u001b[0;31m# Prepare validation data.\u001b[0m\u001b[0;34m\u001b[0m\u001b[0;34m\u001b[0m\u001b[0m\n\u001b[1;32m   1632\u001b[0m         \u001b[0mdo_validation\u001b[0m \u001b[0;34m=\u001b[0m \u001b[0;32mFalse\u001b[0m\u001b[0;34m\u001b[0m\u001b[0m\n",
      "\u001b[0;32m/usr/local/lib/python3.6/site-packages/keras/engine/training.py\u001b[0m in \u001b[0;36m_standardize_user_data\u001b[0;34m(self, x, y, sample_weight, class_weight, check_array_lengths, batch_size)\u001b[0m\n\u001b[1;32m   1474\u001b[0m                                     \u001b[0mself\u001b[0m\u001b[0;34m.\u001b[0m\u001b[0m_feed_input_shapes\u001b[0m\u001b[0;34m,\u001b[0m\u001b[0;34m\u001b[0m\u001b[0m\n\u001b[1;32m   1475\u001b[0m                                     \u001b[0mcheck_batch_axis\u001b[0m\u001b[0;34m=\u001b[0m\u001b[0;32mFalse\u001b[0m\u001b[0;34m,\u001b[0m\u001b[0;34m\u001b[0m\u001b[0m\n\u001b[0;32m-> 1476\u001b[0;31m                                     exception_prefix='input')\n\u001b[0m\u001b[1;32m   1477\u001b[0m         y = _standardize_input_data(y, self._feed_output_names,\n\u001b[1;32m   1478\u001b[0m                                     \u001b[0moutput_shapes\u001b[0m\u001b[0;34m,\u001b[0m\u001b[0;34m\u001b[0m\u001b[0m\n",
      "\u001b[0;32m/usr/local/lib/python3.6/site-packages/keras/engine/training.py\u001b[0m in \u001b[0;36m_standardize_input_data\u001b[0;34m(data, names, shapes, check_batch_axis, exception_prefix)\u001b[0m\n\u001b[1;32m    111\u001b[0m                         \u001b[0;34m': expected '\u001b[0m \u001b[0;34m+\u001b[0m \u001b[0mnames\u001b[0m\u001b[0;34m[\u001b[0m\u001b[0mi\u001b[0m\u001b[0;34m]\u001b[0m \u001b[0;34m+\u001b[0m \u001b[0;34m' to have '\u001b[0m \u001b[0;34m+\u001b[0m\u001b[0;34m\u001b[0m\u001b[0m\n\u001b[1;32m    112\u001b[0m                         \u001b[0mstr\u001b[0m\u001b[0;34m(\u001b[0m\u001b[0mlen\u001b[0m\u001b[0;34m(\u001b[0m\u001b[0mshape\u001b[0m\u001b[0;34m)\u001b[0m\u001b[0;34m)\u001b[0m \u001b[0;34m+\u001b[0m \u001b[0;34m' dimensions, but got array '\u001b[0m\u001b[0;34m\u001b[0m\u001b[0m\n\u001b[0;32m--> 113\u001b[0;31m                         'with shape ' + str(data_shape))\n\u001b[0m\u001b[1;32m    114\u001b[0m                 \u001b[0;32mif\u001b[0m \u001b[0;32mnot\u001b[0m \u001b[0mcheck_batch_axis\u001b[0m\u001b[0;34m:\u001b[0m\u001b[0;34m\u001b[0m\u001b[0m\n\u001b[1;32m    115\u001b[0m                     \u001b[0mdata_shape\u001b[0m \u001b[0;34m=\u001b[0m \u001b[0mdata_shape\u001b[0m\u001b[0;34m[\u001b[0m\u001b[0;36m1\u001b[0m\u001b[0;34m:\u001b[0m\u001b[0;34m]\u001b[0m\u001b[0;34m\u001b[0m\u001b[0m\n",
      "\u001b[0;31mValueError\u001b[0m: Error when checking input: expected conv2d_1_input to have 4 dimensions, but got array with shape (904, 64, 64, 64, 1)"
     ]
    }
   ],
   "source": [
    "#model.load_weights('weights3d_lnet.hdf5')\n",
    "histroylenet= model.fit(xtrain, ytrain,\n",
    "          batch_size=1000,\n",
    "          epochs=30,\n",
    "          verbose=1,\n",
    "          validation_split=0.1,\n",
    "          callbacks=[model_checkpoint])"
   ]
  },
  {
   "cell_type": "code",
   "execution_count": 93,
   "metadata": {},
   "outputs": [],
   "source": [
    "model.save_weights('weights3d_new.hdf5')"
   ]
  },
  {
   "cell_type": "code",
   "execution_count": 19,
   "metadata": {},
   "outputs": [],
   "source": [
    "from sklearn.metrics import confusion_matrix"
   ]
  },
  {
   "cell_type": "code",
   "execution_count": 91,
   "metadata": {},
   "outputs": [
    {
     "data": {
      "text/plain": [
       "array([[ 710,  125],\n",
       "       [  28, 8316]])"
      ]
     },
     "execution_count": 91,
     "metadata": {},
     "output_type": "execute_result"
    }
   ],
   "source": [
    "predicted = model.predict(xtrain[:])\n",
    "pre = np.argmax(predicted,axis=1)\n",
    "tru = np.argmax(ytrain[:],axis=1)\n",
    "confusion_matrix(tru, pre)"
   ]
  },
  {
   "cell_type": "code",
   "execution_count": 92,
   "metadata": {},
   "outputs": [],
   "source": [
    "del xtrain\n",
    "del ytrain"
   ]
  },
  {
   "cell_type": "code",
   "execution_count": null,
   "metadata": {},
   "outputs": [],
   "source": []
  },
  {
   "cell_type": "code",
   "execution_count": 30,
   "metadata": {},
   "outputs": [],
   "source": [
    "#Vanilla3d\n",
    "def makevanilla():\n",
    "    x    = Input(shape=(64,64,64,1))\n",
    "    conv0= Conv3D(32,kernel_size=(3,3,3),padding=\"same\",activation='relu')(x)\n",
    "    conv0= Dropout(0.2)(conv0)\n",
    "    avg1 = AveragePooling3D(pool_size=(2,1,1))(conv0)\n",
    "    conv1= Conv3D(32,kernel_size=(3,3,3),padding=\"same\",activation='relu')(avg1)\n",
    "    conv1= Dropout(0.2)(conv1)\n",
    "    max1 = MaxPooling3D(pool_size=(2,2,2))(conv1)\n",
    "    conv2= Conv3D(64,kernel_size=(3,3,3),padding=\"same\",activation='relu')(max1)\n",
    "    conv2= Dropout(0.2)(conv2)\n",
    "    max2 = MaxPooling3D(pool_size=(2,2,2))(conv2)\n",
    "    conv3= Conv3D(128,kernel_size=(3,3,3),padding=\"same\",activation='relu')(max2)\n",
    "    conv3= Dropout(0.2)(conv3)\n",
    "    max3 = MaxPooling3D(pool_size=(2,2,2))(conv3)\n",
    "    conv4= Conv3D(256,kernel_size=(3,3,3),padding=\"same\",activation='relu')(max3)\n",
    "    conv4= Dropout(0.2)(conv4)\n",
    "    max4 = MaxPooling3D(pool_size=(2,2,2))(conv4)\n",
    "    conv5= Conv3D(256,kernel_size=(3,3,3),padding=\"same\",activation='relu')(max4)\n",
    "    conv5= Dropout(0.2)(conv5)\n",
    "    max5 = MaxPooling3D(pool_size=(2,2,2))(conv5)\n",
    "    conv6= Conv3D(512,kernel_size=(3,3,3),padding=\"same\",activation='relu')(max5)\n",
    "\n",
    "    flat = Flatten()(conv6)\n",
    "    flat= Dropout(0.2)(flat)\n",
    "    dense= Dense(2,activation=\"softmax\")(flat)\n",
    "\n",
    "    vanillamodel = Model(inputs=x, outputs=dense)\n",
    "    \n",
    "    vanillamodel.compile(loss=k.losses.categorical_crossentropy,\n",
    "              optimizer=k.optimizers.Adam(lr=0.0001),\n",
    "              metrics=['accuracy'])\n",
    "\n",
    "    return vanillamodel"
   ]
  },
  {
   "cell_type": "code",
   "execution_count": 31,
   "metadata": {},
   "outputs": [
    {
     "name": "stdout",
     "output_type": "stream",
     "text": [
      "_________________________________________________________________\n",
      "Layer (type)                 Output Shape              Param #   \n",
      "=================================================================\n",
      "input_4 (InputLayer)         (None, 64, 64, 64, 1)     0         \n",
      "_________________________________________________________________\n",
      "conv3d_22 (Conv3D)           (None, 64, 64, 64, 32)    896       \n",
      "_________________________________________________________________\n",
      "dropout_26 (Dropout)         (None, 64, 64, 64, 32)    0         \n",
      "_________________________________________________________________\n",
      "average_pooling3d_4 (Average (None, 32, 64, 64, 32)    0         \n",
      "_________________________________________________________________\n",
      "conv3d_23 (Conv3D)           (None, 32, 64, 64, 32)    27680     \n",
      "_________________________________________________________________\n",
      "dropout_27 (Dropout)         (None, 32, 64, 64, 32)    0         \n",
      "_________________________________________________________________\n",
      "max_pooling3d_16 (MaxPooling (None, 16, 32, 32, 32)    0         \n",
      "_________________________________________________________________\n",
      "conv3d_24 (Conv3D)           (None, 16, 32, 32, 64)    55360     \n",
      "_________________________________________________________________\n",
      "dropout_28 (Dropout)         (None, 16, 32, 32, 64)    0         \n",
      "_________________________________________________________________\n",
      "max_pooling3d_17 (MaxPooling (None, 8, 16, 16, 64)     0         \n",
      "_________________________________________________________________\n",
      "conv3d_25 (Conv3D)           (None, 8, 16, 16, 128)    221312    \n",
      "_________________________________________________________________\n",
      "dropout_29 (Dropout)         (None, 8, 16, 16, 128)    0         \n",
      "_________________________________________________________________\n",
      "max_pooling3d_18 (MaxPooling (None, 4, 8, 8, 128)      0         \n",
      "_________________________________________________________________\n",
      "conv3d_26 (Conv3D)           (None, 4, 8, 8, 256)      884992    \n",
      "_________________________________________________________________\n",
      "dropout_30 (Dropout)         (None, 4, 8, 8, 256)      0         \n",
      "_________________________________________________________________\n",
      "max_pooling3d_19 (MaxPooling (None, 2, 4, 4, 256)      0         \n",
      "_________________________________________________________________\n",
      "conv3d_27 (Conv3D)           (None, 2, 4, 4, 256)      1769728   \n",
      "_________________________________________________________________\n",
      "dropout_31 (Dropout)         (None, 2, 4, 4, 256)      0         \n",
      "_________________________________________________________________\n",
      "max_pooling3d_20 (MaxPooling (None, 1, 2, 2, 256)      0         \n",
      "_________________________________________________________________\n",
      "conv3d_28 (Conv3D)           (None, 1, 2, 2, 512)      3539456   \n",
      "_________________________________________________________________\n",
      "flatten_5 (Flatten)          (None, 2048)              0         \n",
      "_________________________________________________________________\n",
      "dropout_32 (Dropout)         (None, 2048)              0         \n",
      "_________________________________________________________________\n",
      "dense_6 (Dense)              (None, 2)                 4098      \n",
      "=================================================================\n",
      "Total params: 6,503,522\n",
      "Trainable params: 6,503,522\n",
      "Non-trainable params: 0\n",
      "_________________________________________________________________\n"
     ]
    }
   ],
   "source": [
    "vanilla3d = makevanilla()\n",
    "vanilla3d.summary()"
   ]
  },
  {
   "cell_type": "code",
   "execution_count": 32,
   "metadata": {},
   "outputs": [],
   "source": [
    "model_checkpoint = ModelCheckpoint('todel/weights3d_vanila.hdf5', monitor='loss', save_best_only=True)"
   ]
  },
  {
   "cell_type": "code",
   "execution_count": 33,
   "metadata": {},
   "outputs": [
    {
     "name": "stdout",
     "output_type": "stream",
     "text": [
      "Train on 813 samples, validate on 91 samples\n",
      "Epoch 1/20\n",
      "813/813 [==============================] - 37s 46ms/step - loss: 0.6856 - acc: 0.5621 - val_loss: 0.6815 - val_acc: 0.6813\n",
      "Epoch 2/20\n",
      "813/813 [==============================] - 37s 45ms/step - loss: 0.6668 - acc: 0.6113 - val_loss: 0.6866 - val_acc: 0.6703\n",
      "Epoch 3/20\n",
      "813/813 [==============================] - 37s 45ms/step - loss: 0.6256 - acc: 0.6593 - val_loss: 0.6190 - val_acc: 0.7473\n",
      "Epoch 4/20\n",
      "813/813 [==============================] - 37s 45ms/step - loss: 0.5348 - acc: 0.7343 - val_loss: 0.5986 - val_acc: 0.7692\n",
      "Epoch 5/20\n",
      "813/813 [==============================] - 37s 45ms/step - loss: 0.4937 - acc: 0.7724 - val_loss: 0.5345 - val_acc: 0.8242\n",
      "Epoch 6/20\n",
      "813/813 [==============================] - 37s 45ms/step - loss: 0.4864 - acc: 0.7688 - val_loss: 0.6046 - val_acc: 0.7253\n",
      "Epoch 7/20\n",
      "813/813 [==============================] - 37s 45ms/step - loss: 0.4548 - acc: 0.7897 - val_loss: 0.4952 - val_acc: 0.8462\n",
      "Epoch 8/20\n",
      "813/813 [==============================] - 37s 45ms/step - loss: 0.3714 - acc: 0.8266 - val_loss: 0.4626 - val_acc: 0.8132\n",
      "Epoch 9/20\n",
      "813/813 [==============================] - 37s 45ms/step - loss: 0.3262 - acc: 0.8635 - val_loss: 0.5031 - val_acc: 0.8022\n",
      "Epoch 10/20\n",
      "813/813 [==============================] - 37s 45ms/step - loss: 0.2837 - acc: 0.8819 - val_loss: 0.4076 - val_acc: 0.8901\n",
      "Epoch 11/20\n",
      "813/813 [==============================] - 37s 45ms/step - loss: 0.2502 - acc: 0.8991 - val_loss: 0.3982 - val_acc: 0.8681\n",
      "Epoch 12/20\n",
      "813/813 [==============================] - 37s 45ms/step - loss: 0.1980 - acc: 0.9176 - val_loss: 0.4352 - val_acc: 0.7582\n",
      "Epoch 13/20\n",
      "813/813 [==============================] - 37s 45ms/step - loss: 0.1500 - acc: 0.9422 - val_loss: 0.3726 - val_acc: 0.8352\n",
      "Epoch 14/20\n",
      "813/813 [==============================] - 37s 45ms/step - loss: 0.1162 - acc: 0.9533 - val_loss: 0.4349 - val_acc: 0.8242\n",
      "Epoch 15/20\n",
      "813/813 [==============================] - 37s 45ms/step - loss: 0.0937 - acc: 0.9668 - val_loss: 0.3671 - val_acc: 0.8352\n",
      "Epoch 16/20\n",
      "813/813 [==============================] - 37s 45ms/step - loss: 0.0585 - acc: 0.9889 - val_loss: 0.3342 - val_acc: 0.8571\n",
      "Epoch 17/20\n",
      "813/813 [==============================] - 37s 45ms/step - loss: 0.0324 - acc: 0.9889 - val_loss: 0.3505 - val_acc: 0.8242\n",
      "Epoch 18/20\n",
      "813/813 [==============================] - 37s 45ms/step - loss: 0.0232 - acc: 0.9951 - val_loss: 0.3358 - val_acc: 0.8571\n",
      "Epoch 19/20\n",
      "813/813 [==============================] - 37s 45ms/step - loss: 0.0156 - acc: 0.9963 - val_loss: 0.3109 - val_acc: 0.8352\n",
      "Epoch 20/20\n",
      "813/813 [==============================] - 37s 45ms/step - loss: 0.0074 - acc: 0.9988 - val_loss: 0.3194 - val_acc: 0.8242\n"
     ]
    }
   ],
   "source": [
    "historyVanilla= vanilla3d.fit(xtrain, ytrain,\n",
    "          batch_size=20,\n",
    "          epochs=20,\n",
    "          verbose=1,\n",
    "          validation_split=0.1,\n",
    "          callbacks=[model_checkpoint])"
   ]
  },
  {
   "cell_type": "code",
   "execution_count": 34,
   "metadata": {},
   "outputs": [
    {
     "data": {
      "text/plain": [
       "array([[461,   5],\n",
       "       [ 11, 427]])"
      ]
     },
     "execution_count": 34,
     "metadata": {},
     "output_type": "execute_result"
    }
   ],
   "source": [
    "from sklearn.metrics import confusion_matrix\n",
    "predicted = vanilla3d.predict(xtrain[:])\n",
    "pre = np.argmax(predicted,axis=1)\n",
    "tru = np.argmax(ytrain[:],axis=1)\n",
    "confusion_matrix(tru, pre)"
   ]
  },
  {
   "cell_type": "code",
   "execution_count": 35,
   "metadata": {},
   "outputs": [
    {
     "name": "stdout",
     "output_type": "stream",
     "text": [
      "dict_keys(['val_loss', 'val_acc', 'loss', 'acc'])\n"
     ]
    },
    {
     "data": {
      "image/png": "[encoded data removed]",
      "text/plain": [
       "<matplotlib.figure.Figure at 0x7f402ca440f0>"
      ]
     },
     "metadata": {},
     "output_type": "display_data"
    },
    {
     "data": {
      "image/png": "[encoded data removed]",
      "text/plain": [
       "<matplotlib.figure.Figure at 0x7f402ca44cf8>"
      ]
     },
     "metadata": {},
     "output_type": "display_data"
    }
   ],
   "source": [
    "plotmymodel(historyVanilla)"
   ]
  },
  {
   "cell_type": "code",
   "execution_count": null,
   "metadata": {},
   "outputs": [],
   "source": []
  },
  {
   "cell_type": "code",
   "execution_count": 36,
   "metadata": {},
   "outputs": [],
   "source": [
    "def inceptionlayer(prev):\n",
    "    tower_1 = Conv3D(64, (1,1,1), padding='same', activation='relu')(prev)\n",
    "    tower_1 = Conv3D(64, (3,3,3), padding='same', activation='relu')(tower_1)\n",
    "    tower_2 = Conv3D(64, (1,1,1), padding='same', activation='relu')(prev)\n",
    "    tower_2 = Conv3D(64, (5,5,5), padding='same', activation='relu')(tower_2)\n",
    "    tower_3 = MaxPooling3D((3,3,3), strides=(1,1,1), padding='same')(prev)\n",
    "    tower_3 = Conv3D(64, (1,1,1), padding='same', activation='relu')(tower_3)\n",
    "    output = k.layers.concatenate([tower_1, tower_2, tower_3], axis = 3)\n",
    "    \n",
    "    return output"
   ]
  },
  {
   "cell_type": "code",
   "execution_count": 55,
   "metadata": {},
   "outputs": [],
   "source": [
    "#GOOGLENET\n",
    "def makegooglenet():\n",
    "    x    = Input(shape=(64,64,64,1))\n",
    "    conv1= Conv3D(32,kernel_size=(7,7,7),activation='relu')(x)\n",
    "    conv1= Dropout(0.3)(conv1)\n",
    "    max1 = MaxPooling3D(pool_size=(2,2,2))(conv1)\n",
    "    conv2= Conv3D(32,kernel_size=(3,3,3),activation='relu')(max1)\n",
    "    conv2= Dropout(0.3)(conv2)\n",
    "    max2 = MaxPooling3D(pool_size=(2,2,2))(conv2)\n",
    "    incp1= inceptionlayer(max2)\n",
    "    incp1= Dropout(0.3)(incp1)\n",
    "    incp2= inceptionlayer(incp1)\n",
    "    incp2= Dropout(0.3)(incp2)\n",
    "    max3 = MaxPooling3D(pool_size=(2,2,2))(incp2)\n",
    "    incp3= inceptionlayer(max3)\n",
    "    incp3= Dropout(0.3)(incp3)\n",
    "    incp4= inceptionlayer(incp3)\n",
    "    incp4= Dropout(0.3)(incp4)\n",
    "    max4 = MaxPooling3D(pool_size=(2,2,2))(incp4)\n",
    "    incp5= inceptionlayer(max4)\n",
    "    incp5= Dropout(0.3)(incp5)\n",
    "    incp6= inceptionlayer(incp5)\n",
    "    incp6= Dropout(0.3)(incp6)\n",
    "    avg1= AveragePooling3D(pool_size=(2,2,2))(incp4)\n",
    "\n",
    "    flat = Flatten()(avg1)\n",
    "    flat= Dropout(0.3)(flat)\n",
    "    dense= Dense(2,activation=\"softmax\")(flat)\n",
    "\n",
    "    googlenet = Model(inputs=x, outputs=dense)\n",
    "    \n",
    "    googlenet.compile(loss=k.losses.categorical_crossentropy,\n",
    "              optimizer=k.optimizers.Adam(lr=0.001),\n",
    "              metrics=['accuracy'])\n",
    "    \n",
    "    return googlenet\n",
    "    \n",
    "   \n",
    "   "
   ]
  },
  {
   "cell_type": "code",
   "execution_count": 56,
   "metadata": {},
   "outputs": [
    {
     "name": "stdout",
     "output_type": "stream",
     "text": [
      "__________________________________________________________________________________________________\n",
      "Layer (type)                    Output Shape         Param #     Connected to                     \n",
      "==================================================================================================\n",
      "input_8 (InputLayer)            (None, 64, 64, 64, 1 0                                            \n",
      "__________________________________________________________________________________________________\n",
      "conv3d_125 (Conv3D)             (None, 58, 58, 58, 3 11008       input_8[0][0]                    \n",
      "__________________________________________________________________________________________________\n",
      "dropout_60 (Dropout)            (None, 58, 58, 58, 3 0           conv3d_125[0][0]                 \n",
      "__________________________________________________________________________________________________\n",
      "max_pooling3d_51 (MaxPooling3D) (None, 29, 29, 29, 3 0           dropout_60[0][0]                 \n",
      "__________________________________________________________________________________________________\n",
      "conv3d_126 (Conv3D)             (None, 27, 27, 27, 3 27680       max_pooling3d_51[0][0]           \n",
      "__________________________________________________________________________________________________\n",
      "dropout_61 (Dropout)            (None, 27, 27, 27, 3 0           conv3d_126[0][0]                 \n",
      "__________________________________________________________________________________________________\n",
      "max_pooling3d_52 (MaxPooling3D) (None, 13, 13, 13, 3 0           dropout_61[0][0]                 \n",
      "__________________________________________________________________________________________________\n",
      "conv3d_127 (Conv3D)             (None, 13, 13, 13, 6 2112        max_pooling3d_52[0][0]           \n",
      "__________________________________________________________________________________________________\n",
      "conv3d_129 (Conv3D)             (None, 13, 13, 13, 6 2112        max_pooling3d_52[0][0]           \n",
      "__________________________________________________________________________________________________\n",
      "max_pooling3d_53 (MaxPooling3D) (None, 13, 13, 13, 3 0           max_pooling3d_52[0][0]           \n",
      "__________________________________________________________________________________________________\n",
      "conv3d_128 (Conv3D)             (None, 13, 13, 13, 6 110656      conv3d_127[0][0]                 \n",
      "__________________________________________________________________________________________________\n",
      "conv3d_130 (Conv3D)             (None, 13, 13, 13, 6 512064      conv3d_129[0][0]                 \n",
      "__________________________________________________________________________________________________\n",
      "conv3d_131 (Conv3D)             (None, 13, 13, 13, 6 2112        max_pooling3d_53[0][0]           \n",
      "__________________________________________________________________________________________________\n",
      "concatenate_19 (Concatenate)    (None, 13, 13, 39, 6 0           conv3d_128[0][0]                 \n",
      "                                                                 conv3d_130[0][0]                 \n",
      "                                                                 conv3d_131[0][0]                 \n",
      "__________________________________________________________________________________________________\n",
      "dropout_62 (Dropout)            (None, 13, 13, 39, 6 0           concatenate_19[0][0]             \n",
      "__________________________________________________________________________________________________\n",
      "conv3d_132 (Conv3D)             (None, 13, 13, 39, 6 4160        dropout_62[0][0]                 \n",
      "__________________________________________________________________________________________________\n",
      "conv3d_134 (Conv3D)             (None, 13, 13, 39, 6 4160        dropout_62[0][0]                 \n",
      "__________________________________________________________________________________________________\n",
      "max_pooling3d_54 (MaxPooling3D) (None, 13, 13, 39, 6 0           dropout_62[0][0]                 \n",
      "__________________________________________________________________________________________________\n",
      "conv3d_133 (Conv3D)             (None, 13, 13, 39, 6 110656      conv3d_132[0][0]                 \n",
      "__________________________________________________________________________________________________\n",
      "conv3d_135 (Conv3D)             (None, 13, 13, 39, 6 512064      conv3d_134[0][0]                 \n",
      "__________________________________________________________________________________________________\n",
      "conv3d_136 (Conv3D)             (None, 13, 13, 39, 6 4160        max_pooling3d_54[0][0]           \n",
      "__________________________________________________________________________________________________\n",
      "concatenate_20 (Concatenate)    (None, 13, 13, 117,  0           conv3d_133[0][0]                 \n",
      "                                                                 conv3d_135[0][0]                 \n",
      "                                                                 conv3d_136[0][0]                 \n",
      "__________________________________________________________________________________________________\n",
      "dropout_63 (Dropout)            (None, 13, 13, 117,  0           concatenate_20[0][0]             \n",
      "__________________________________________________________________________________________________\n",
      "max_pooling3d_55 (MaxPooling3D) (None, 6, 6, 58, 64) 0           dropout_63[0][0]                 \n",
      "__________________________________________________________________________________________________\n",
      "conv3d_137 (Conv3D)             (None, 6, 6, 58, 64) 4160        max_pooling3d_55[0][0]           \n",
      "__________________________________________________________________________________________________\n",
      "conv3d_139 (Conv3D)             (None, 6, 6, 58, 64) 4160        max_pooling3d_55[0][0]           \n",
      "__________________________________________________________________________________________________\n",
      "max_pooling3d_56 (MaxPooling3D) (None, 6, 6, 58, 64) 0           max_pooling3d_55[0][0]           \n",
      "__________________________________________________________________________________________________\n",
      "conv3d_138 (Conv3D)             (None, 6, 6, 58, 64) 110656      conv3d_137[0][0]                 \n",
      "__________________________________________________________________________________________________\n",
      "conv3d_140 (Conv3D)             (None, 6, 6, 58, 64) 512064      conv3d_139[0][0]                 \n",
      "__________________________________________________________________________________________________\n",
      "conv3d_141 (Conv3D)             (None, 6, 6, 58, 64) 4160        max_pooling3d_56[0][0]           \n",
      "__________________________________________________________________________________________________\n",
      "concatenate_21 (Concatenate)    (None, 6, 6, 174, 64 0           conv3d_138[0][0]                 \n",
      "                                                                 conv3d_140[0][0]                 \n",
      "                                                                 conv3d_141[0][0]                 \n",
      "__________________________________________________________________________________________________\n",
      "dropout_64 (Dropout)            (None, 6, 6, 174, 64 0           concatenate_21[0][0]             \n",
      "__________________________________________________________________________________________________\n",
      "conv3d_142 (Conv3D)             (None, 6, 6, 174, 64 4160        dropout_64[0][0]                 \n",
      "__________________________________________________________________________________________________\n",
      "conv3d_144 (Conv3D)             (None, 6, 6, 174, 64 4160        dropout_64[0][0]                 \n",
      "__________________________________________________________________________________________________\n",
      "max_pooling3d_57 (MaxPooling3D) (None, 6, 6, 174, 64 0           dropout_64[0][0]                 \n",
      "__________________________________________________________________________________________________\n",
      "conv3d_143 (Conv3D)             (None, 6, 6, 174, 64 110656      conv3d_142[0][0]                 \n",
      "__________________________________________________________________________________________________\n",
      "conv3d_145 (Conv3D)             (None, 6, 6, 174, 64 512064      conv3d_144[0][0]                 \n",
      "__________________________________________________________________________________________________\n",
      "conv3d_146 (Conv3D)             (None, 6, 6, 174, 64 4160        max_pooling3d_57[0][0]           \n",
      "__________________________________________________________________________________________________\n",
      "concatenate_22 (Concatenate)    (None, 6, 6, 522, 64 0           conv3d_143[0][0]                 \n",
      "                                                                 conv3d_145[0][0]                 \n",
      "                                                                 conv3d_146[0][0]                 \n",
      "__________________________________________________________________________________________________\n",
      "dropout_65 (Dropout)            (None, 6, 6, 522, 64 0           concatenate_22[0][0]             \n",
      "__________________________________________________________________________________________________\n",
      "average_pooling3d_8 (AveragePoo (None, 3, 3, 261, 64 0           dropout_65[0][0]                 \n",
      "__________________________________________________________________________________________________\n",
      "flatten_9 (Flatten)             (None, 150336)       0           average_pooling3d_8[0][0]        \n",
      "__________________________________________________________________________________________________\n",
      "dropout_68 (Dropout)            (None, 150336)       0           flatten_9[0][0]                  \n",
      "__________________________________________________________________________________________________\n",
      "dense_10 (Dense)                (None, 2)            300674      dropout_68[0][0]                 \n",
      "==================================================================================================\n",
      "Total params: 2,874,018\n",
      "Trainable params: 2,874,018\n",
      "Non-trainable params: 0\n",
      "__________________________________________________________________________________________________\n"
     ]
    }
   ],
   "source": [
    "googlenet = makegooglenet()\n",
    "googlenet.summary()"
   ]
  },
  {
   "cell_type": "code",
   "execution_count": 57,
   "metadata": {},
   "outputs": [],
   "source": [
    "model_checkpoint = ModelCheckpoint('todel/weights3d_googlenet.hdf5', monitor='loss', save_best_only=True)"
   ]
  },
  {
   "cell_type": "code",
   "execution_count": null,
   "metadata": {},
   "outputs": [],
   "source": [
    "googlenet.load_weights('weights3d_googlenet.hdf5')"
   ]
  },
  {
   "cell_type": "code",
   "execution_count": null,
   "metadata": {},
   "outputs": [
    {
     "name": "stdout",
     "output_type": "stream",
     "text": [
      "Train on 813 samples, validate on 91 samples\n",
      "Epoch 1/20\n",
      "813/813 [==============================] - 44s 54ms/step - loss: 0.8699 - acc: 0.5055 - val_loss: 0.6936 - val_acc: 0.4505\n",
      "Epoch 2/20\n",
      "813/813 [==============================] - 42s 52ms/step - loss: 0.6901 - acc: 0.5597 - val_loss: 0.6969 - val_acc: 0.4505\n",
      "Epoch 3/20\n",
      "813/813 [==============================] - 42s 52ms/step - loss: 0.6806 - acc: 0.5683 - val_loss: 0.6909 - val_acc: 0.7692\n",
      "Epoch 4/20\n",
      "813/813 [==============================] - 42s 52ms/step - loss: 0.6615 - acc: 0.5953 - val_loss: 0.6567 - val_acc: 0.6703\n",
      "Epoch 5/20\n",
      "813/813 [==============================] - 42s 52ms/step - loss: 0.6061 - acc: 0.6679 - val_loss: 0.6161 - val_acc: 0.6593\n",
      "Epoch 6/20\n",
      "813/813 [==============================] - 42s 52ms/step - loss: 0.5755 - acc: 0.7171 - val_loss: 0.6586 - val_acc: 0.5934\n",
      "Epoch 7/20\n",
      "813/813 [==============================] - 42s 52ms/step - loss: 0.5280 - acc: 0.7491 - val_loss: 0.5696 - val_acc: 0.7802\n",
      "Epoch 8/20\n",
      "813/813 [==============================] - 42s 52ms/step - loss: 0.5244 - acc: 0.7355 - val_loss: 0.6259 - val_acc: 0.6484\n",
      "Epoch 9/20\n",
      "813/813 [==============================] - 42s 52ms/step - loss: 0.4541 - acc: 0.7774 - val_loss: 0.5474 - val_acc: 0.7692\n",
      "Epoch 10/20\n",
      "813/813 [==============================] - 42s 52ms/step - loss: 0.4222 - acc: 0.8057 - val_loss: 0.6340 - val_acc: 0.6154\n",
      "Epoch 11/20\n",
      "813/813 [==============================] - 42s 52ms/step - loss: 0.3873 - acc: 0.8450 - val_loss: 0.5464 - val_acc: 0.7363\n",
      "Epoch 12/20\n",
      "813/813 [==============================] - 42s 52ms/step - loss: 0.3489 - acc: 0.8499 - val_loss: 0.5385 - val_acc: 0.7033\n",
      "Epoch 13/20\n",
      "813/813 [==============================] - 42s 52ms/step - loss: 0.3428 - acc: 0.8672 - val_loss: 0.6148 - val_acc: 0.6264\n",
      "Epoch 14/20\n",
      "220/813 [=======>......................] - ETA: 29s - loss: 0.2437 - acc: 0.9091"
     ]
    }
   ],
   "source": [
    "historyGoogle= googlenet.fit(xtrain, ytrain,\n",
    "          batch_size=20,\n",
    "          epochs=20,\n",
    "          verbose=1,\n",
    "          validation_split=0.1,\n",
    "          callbacks=[model_checkpoint])"
   ]
  },
  {
   "cell_type": "code",
   "execution_count": 139,
   "metadata": {},
   "outputs": [],
   "source": []
  },
  {
   "cell_type": "code",
   "execution_count": 53,
   "metadata": {},
   "outputs": [
    {
     "data": {
      "text/plain": [
       "array([[315, 151],\n",
       "       [  0, 438]])"
      ]
     },
     "execution_count": 53,
     "metadata": {},
     "output_type": "execute_result"
    }
   ],
   "source": [
    "from sklearn.metrics import confusion_matrix\n",
    "predicted = googlenet.predict(xtrain[:])\n",
    "pre = np.argmax(predicted,axis=1)\n",
    "tru = np.argmax(ytrain[:],axis=1)\n",
    "confusion_matrix(tru, pre)"
   ]
  },
  {
   "cell_type": "code",
   "execution_count": 54,
   "metadata": {},
   "outputs": [
    {
     "name": "stdout",
     "output_type": "stream",
     "text": [
      "dict_keys(['val_loss', 'val_acc', 'loss', 'acc'])\n"
     ]
    },
    {
     "data": {
      "image/png": "[encoded data removed]",
      "text/plain": [
       "<matplotlib.figure.Figure at 0x7f402822ada0>"
      ]
     },
     "metadata": {},
     "output_type": "display_data"
    },
    {
     "data": {
      "image/png": "[encoded data removed]",
      "text/plain": [
       "<matplotlib.figure.Figure at 0x7f402ca44828>"
      ]
     },
     "metadata": {},
     "output_type": "display_data"
    }
   ],
   "source": [
    "plotmymodel(historyGoogle)"
   ]
  },
  {
   "cell_type": "code",
   "execution_count": 148,
   "metadata": {},
   "outputs": [],
   "source": []
  },
  {
   "cell_type": "code",
   "execution_count": null,
   "metadata": {},
   "outputs": [],
   "source": []
  }
 ],
 "metadata": {
  "kernelspec": {
   "display_name": "Python 3",
   "language": "python",
   "name": "python3"
  },
  "language_info": {
   "codemirror_mode": {
    "name": "ipython",
    "version": 3
   },
   "file_extension": ".py",
   "mimetype": "text/x-python",
   "name": "python",
   "nbconvert_exporter": "python",
   "pygments_lexer": "ipython3",
   "version": "3.6.0"
  }
 },
 "nbformat": 4,
 "nbformat_minor": 2
}
